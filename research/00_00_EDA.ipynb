{
 "cells": [
  {
   "cell_type": "code",
   "execution_count": 1,
   "id": "27f321e6-63d8-407d-ad48-2d0f27f85950",
   "metadata": {},
   "outputs": [],
   "source": [
    "import pandas as pd\n",
    "import csv\n",
    "from datasets import Dataset, load_from_disk, load_dataset_builder, load_dataset, DatasetDict"
   ]
  },
  {
   "cell_type": "code",
   "execution_count": 2,
   "id": "ae83682a-8cb0-4206-8f43-85c575d2864d",
   "metadata": {},
   "outputs": [
    {
     "name": "stdout",
     "output_type": "stream",
     "text": [
      "                                               OFFER            RETAILER  \\\n",
      "0     Spend $50 on a Full-Priced new Club Membership           SAMS CLUB   \n",
      "1       Beyond Meat® Plant-Based products, spend $25                 NaN   \n",
      "2           Good Humor Viennetta Frozen Vanilla Cake                 NaN   \n",
      "3  Butterball, select varieties, spend $10 at Dil...  DILLONS FOOD STORE   \n",
      "4  GATORADE® Fast Twitch®, 12-ounce 12 pack, at A...              AMAZON   \n",
      "\n",
      "         BRAND  \n",
      "0    SAMS CLUB  \n",
      "1  BEYOND MEAT  \n",
      "2   GOOD HUMOR  \n",
      "3   BUTTERBALL  \n",
      "4     GATORADE  \n",
      "<class 'pandas.core.frame.DataFrame'>\n",
      "RangeIndex: 384 entries, 0 to 383\n",
      "Data columns (total 3 columns):\n",
      " #   Column    Non-Null Count  Dtype \n",
      "---  ------    --------------  ----- \n",
      " 0   OFFER     384 non-null    object\n",
      " 1   RETAILER  238 non-null    object\n",
      " 2   BRAND     384 non-null    object\n",
      "dtypes: object(3)\n",
      "memory usage: 9.1+ KB\n",
      "None\n",
      "                                                    OFFER RETAILER  \\\n",
      "count                                                 384      238   \n",
      "unique                                                376       61   \n",
      "top     GATORADE® Fast Twitch®, 12-ounce single serve,...  WALMART   \n",
      "freq                                                    2       44   \n",
      "\n",
      "                       BRAND  \n",
      "count                    384  \n",
      "unique                   144  \n",
      "top     CASEYS GENERAL STORE  \n",
      "freq                      26  \n"
     ]
    }
   ],
   "source": [
    "offer_df = pd.read_csv(\"../data/raw/offer_retailer.csv\")\n",
    "print(offer_df.head())\n",
    "print(offer_df.info())\n",
    "print(offer_df.describe())"
   ]
  },
  {
   "cell_type": "code",
   "execution_count": 3,
   "id": "000e0077",
   "metadata": {},
   "outputs": [
    {
     "name": "stdout",
     "output_type": "stream",
     "text": [
      "                       BRAND  \\\n",
      "count                    384   \n",
      "unique                   144   \n",
      "top     CASEYS GENERAL STORE   \n",
      "freq                      26   \n",
      "\n",
      "                                                    OFFER  \n",
      "count                                                 384  \n",
      "unique                                                376  \n",
      "top     GATORADE® Fast Twitch®, 12-ounce single serve,...  \n",
      "freq                                                    2  \n"
     ]
    }
   ],
   "source": [
    "print(offer_df[[\"BRAND\", \"OFFER\"]].describe())"
   ]
  },
  {
   "cell_type": "code",
   "execution_count": 4,
   "id": "5dde40d4-fc08-4449-ab0f-5e390a85e2b6",
   "metadata": {},
   "outputs": [
    {
     "name": "stdout",
     "output_type": "stream",
     "text": [
      "              BRAND BRAND_BELONGS_TO_CATEGORY  RECEIPTS\n",
      "0  CASEYS GEN STORE          Tobacco Products   2950931\n",
      "1  CASEYS GEN STORE                    Mature   2859240\n",
      "2            EQUATE              Hair Removal    893268\n",
      "3         PALMOLIVE               Bath & Body    542562\n",
      "4              DAWN               Bath & Body    301844\n",
      "<class 'pandas.core.frame.DataFrame'>\n",
      "RangeIndex: 9906 entries, 0 to 9905\n",
      "Data columns (total 3 columns):\n",
      " #   Column                     Non-Null Count  Dtype \n",
      "---  ------                     --------------  ----- \n",
      " 0   BRAND                      9905 non-null   object\n",
      " 1   BRAND_BELONGS_TO_CATEGORY  9906 non-null   object\n",
      " 2   RECEIPTS                   9906 non-null   int64 \n",
      "dtypes: int64(1), object(2)\n",
      "memory usage: 232.3+ KB\n",
      "None\n",
      "           RECEIPTS\n",
      "count  9.906000e+03\n",
      "mean   1.894300e+03\n",
      "std    4.318618e+04\n",
      "min    1.100000e+01\n",
      "25%    2.500000e+01\n",
      "50%    7.100000e+01\n",
      "75%    3.427500e+02\n",
      "max    2.950931e+06\n"
     ]
    }
   ],
   "source": [
    "brand_df = pd.read_csv(\"../data/raw/brand_category.csv\")\n",
    "print(brand_df.head())\n",
    "print(brand_df.info())\n",
    "print(brand_df.describe())"
   ]
  },
  {
   "cell_type": "code",
   "execution_count": 5,
   "id": "86e1f4ae-e27e-4317-aea6-4a6060311142",
   "metadata": {},
   "outputs": [
    {
     "data": {
      "text/html": [
       "<div>\n",
       "<style scoped>\n",
       "    .dataframe tbody tr th:only-of-type {\n",
       "        vertical-align: middle;\n",
       "    }\n",
       "\n",
       "    .dataframe tbody tr th {\n",
       "        vertical-align: top;\n",
       "    }\n",
       "\n",
       "    .dataframe thead th {\n",
       "        text-align: right;\n",
       "    }\n",
       "</style>\n",
       "<table border=\"1\" class=\"dataframe\">\n",
       "  <thead>\n",
       "    <tr style=\"text-align: right;\">\n",
       "      <th></th>\n",
       "      <th>BRAND</th>\n",
       "      <th>BRAND_BELONGS_TO_CATEGORY</th>\n",
       "      <th>RECEIPTS</th>\n",
       "    </tr>\n",
       "  </thead>\n",
       "  <tbody>\n",
       "    <tr>\n",
       "      <th>6624</th>\n",
       "      <td>NaN</td>\n",
       "      <td>Beer</td>\n",
       "      <td>33</td>\n",
       "    </tr>\n",
       "  </tbody>\n",
       "</table>\n",
       "</div>"
      ],
      "text/plain": [
       "     BRAND BRAND_BELONGS_TO_CATEGORY  RECEIPTS\n",
       "6624   NaN                      Beer        33"
      ]
     },
     "execution_count": 5,
     "metadata": {},
     "output_type": "execute_result"
    }
   ],
   "source": [
    "brand_df[pd.isna(brand_df[\"BRAND\"])]"
   ]
  },
  {
   "cell_type": "code",
   "execution_count": 6,
   "id": "d83658cc-5a93-4171-b5a4-8fb22b15c544",
   "metadata": {},
   "outputs": [
    {
     "data": {
      "text/html": [
       "<div>\n",
       "<style scoped>\n",
       "    .dataframe tbody tr th:only-of-type {\n",
       "        vertical-align: middle;\n",
       "    }\n",
       "\n",
       "    .dataframe tbody tr th {\n",
       "        vertical-align: top;\n",
       "    }\n",
       "\n",
       "    .dataframe thead th {\n",
       "        text-align: right;\n",
       "    }\n",
       "</style>\n",
       "<table border=\"1\" class=\"dataframe\">\n",
       "  <thead>\n",
       "    <tr style=\"text-align: right;\">\n",
       "      <th></th>\n",
       "      <th>BRAND</th>\n",
       "      <th>BRAND_BELONGS_TO_CATEGORY</th>\n",
       "      <th>RECEIPTS</th>\n",
       "    </tr>\n",
       "  </thead>\n",
       "  <tbody>\n",
       "  </tbody>\n",
       "</table>\n",
       "</div>"
      ],
      "text/plain": [
       "Empty DataFrame\n",
       "Columns: [BRAND, BRAND_BELONGS_TO_CATEGORY, RECEIPTS]\n",
       "Index: []"
      ]
     },
     "execution_count": 6,
     "metadata": {},
     "output_type": "execute_result"
    }
   ],
   "source": [
    "brand_df.dropna(inplace=True)\n",
    "brand_df[pd.isna(brand_df[\"BRAND\"])]"
   ]
  },
  {
   "cell_type": "code",
   "execution_count": 7,
   "id": "667bb026",
   "metadata": {},
   "outputs": [
    {
     "name": "stdout",
     "output_type": "stream",
     "text": [
      "       BRAND BRAND_BELONGS_TO_CATEGORY\n",
      "count   9905                      9905\n",
      "unique  8521                       118\n",
      "top     GOYA                      Beer\n",
      "freq      29                      2142\n"
     ]
    }
   ],
   "source": [
    "print(brand_df[[\"BRAND\", \"BRAND_BELONGS_TO_CATEGORY\"]].describe())"
   ]
  },
  {
   "cell_type": "code",
   "execution_count": 8,
   "id": "ecd0f58a",
   "metadata": {},
   "outputs": [
    {
     "name": "stdout",
     "output_type": "stream",
     "text": [
      "Brands in brands_df:  8521\n",
      "Brands in offer_df:  144\n",
      "Unique Brands Total: 8543\n",
      "Unique Brands with offers: 122\n",
      "Unique Brands without offers: 8399\n",
      "Unique Offers without known brands: 22\n"
     ]
    }
   ],
   "source": [
    "brand_set1 = set(brand_df[\"BRAND\"].tolist())\n",
    "brand_set2 = set(offer_df[\"BRAND\"].tolist())\n",
    "print(\"Brands in brands_df: \", len(brand_set1))\n",
    "print(\"Brands in offer_df: \", len(brand_set2))\n",
    "print(\"Unique Brands Total:\", len(brand_set1.union(brand_set2)))\n",
    "print(\"Unique Brands with offers:\", len(brand_set1.intersection(brand_set2)))\n",
    "print(\"Unique Brands without offers:\", len(brand_set1.difference(brand_set2)))\n",
    "print(\"Unique Offers without known brands:\", len(brand_set2.difference(brand_set1)))"
   ]
  },
  {
   "cell_type": "code",
   "execution_count": 9,
   "id": "4ada291b-9b62-40d1-ae7d-5e23cea18055",
   "metadata": {},
   "outputs": [
    {
     "name": "stdout",
     "output_type": "stream",
     "text": [
      "                            CATEGORY_ID             PRODUCT_CATEGORY  \\\n",
      "0  1f7d2fa7-a1d7-4969-aaf4-1244f232c175              Red Pasta Sauce   \n",
      "1  3e48a9b3-1ab2-4f2d-867d-4a30828afeab  Alfredo & White Pasta Sauce   \n",
      "2  09f3decc-aa93-460d-936c-0ddf06b055a3             Cooking & Baking   \n",
      "3  12a89b18-4c01-4048-94b2-0705e0a45f6b             Packaged Seafood   \n",
      "4  2caa015a-ca32-4456-a086-621446238783             Feminine Hygeine   \n",
      "\n",
      "  IS_CHILD_CATEGORY_TO  \n",
      "0          Pasta Sauce  \n",
      "1          Pasta Sauce  \n",
      "2               Pantry  \n",
      "3               Pantry  \n",
      "4    Health & Wellness  \n",
      "<class 'pandas.core.frame.DataFrame'>\n",
      "RangeIndex: 118 entries, 0 to 117\n",
      "Data columns (total 3 columns):\n",
      " #   Column                Non-Null Count  Dtype \n",
      "---  ------                --------------  ----- \n",
      " 0   CATEGORY_ID           118 non-null    object\n",
      " 1   PRODUCT_CATEGORY      118 non-null    object\n",
      " 2   IS_CHILD_CATEGORY_TO  118 non-null    object\n",
      "dtypes: object(3)\n",
      "memory usage: 2.9+ KB\n",
      "None\n",
      "                                 CATEGORY_ID PRODUCT_CATEGORY  \\\n",
      "count                                    118              118   \n",
      "unique                                   118              118   \n",
      "top     1f7d2fa7-a1d7-4969-aaf4-1244f232c175  Red Pasta Sauce   \n",
      "freq                                       1                1   \n",
      "\n",
      "       IS_CHILD_CATEGORY_TO  \n",
      "count                   118  \n",
      "unique                   23  \n",
      "top                  Pantry  \n",
      "freq                     16  \n"
     ]
    }
   ],
   "source": [
    "cat_df = pd.read_csv(\"../data/raw/categories.csv\")\n",
    "print(cat_df.head())\n",
    "print(cat_df.info())\n",
    "print(cat_df.describe())"
   ]
  },
  {
   "cell_type": "code",
   "execution_count": 10,
   "id": "cf1fffef-36ce-415e-99d3-065796bf5b31",
   "metadata": {},
   "outputs": [
    {
     "data": {
      "text/html": [
       "<div>\n",
       "<style scoped>\n",
       "    .dataframe tbody tr th:only-of-type {\n",
       "        vertical-align: middle;\n",
       "    }\n",
       "\n",
       "    .dataframe tbody tr th {\n",
       "        vertical-align: top;\n",
       "    }\n",
       "\n",
       "    .dataframe thead th {\n",
       "        text-align: right;\n",
       "    }\n",
       "</style>\n",
       "<table border=\"1\" class=\"dataframe\">\n",
       "  <thead>\n",
       "    <tr style=\"text-align: right;\">\n",
       "      <th></th>\n",
       "      <th>BRAND</th>\n",
       "      <th>BRAND_BELONGS_TO_CATEGORY</th>\n",
       "      <th>RECEIPTS</th>\n",
       "      <th>CATEGORY_ID</th>\n",
       "      <th>PRODUCT_CATEGORY</th>\n",
       "      <th>IS_CHILD_CATEGORY_TO</th>\n",
       "    </tr>\n",
       "  </thead>\n",
       "  <tbody>\n",
       "    <tr>\n",
       "      <th>0</th>\n",
       "      <td>CASEYS GEN STORE</td>\n",
       "      <td>Tobacco Products</td>\n",
       "      <td>2950931</td>\n",
       "      <td>4442fa51-d4b7-4d56-ad7c-d18cfd2aff84</td>\n",
       "      <td>Tobacco Products</td>\n",
       "      <td>Mature</td>\n",
       "    </tr>\n",
       "    <tr>\n",
       "      <th>1</th>\n",
       "      <td>RJ REYNOLDS VAPOR</td>\n",
       "      <td>Tobacco Products</td>\n",
       "      <td>21</td>\n",
       "      <td>4442fa51-d4b7-4d56-ad7c-d18cfd2aff84</td>\n",
       "      <td>Tobacco Products</td>\n",
       "      <td>Mature</td>\n",
       "    </tr>\n",
       "    <tr>\n",
       "      <th>2</th>\n",
       "      <td>CASEYS GEN STORE</td>\n",
       "      <td>Mature</td>\n",
       "      <td>2859240</td>\n",
       "      <td>f81d7064-52da-4bd7-98eb-7a14be267720</td>\n",
       "      <td>Mature</td>\n",
       "      <td>Mature</td>\n",
       "    </tr>\n",
       "    <tr>\n",
       "      <th>3</th>\n",
       "      <td>EQUATE</td>\n",
       "      <td>Hair Removal</td>\n",
       "      <td>893268</td>\n",
       "      <td>539953fe-50bf-4a00-8a21-c64752d6ed7e</td>\n",
       "      <td>Hair Removal</td>\n",
       "      <td>Health &amp; Wellness</td>\n",
       "    </tr>\n",
       "    <tr>\n",
       "      <th>4</th>\n",
       "      <td>BARBASOL</td>\n",
       "      <td>Hair Removal</td>\n",
       "      <td>283926</td>\n",
       "      <td>539953fe-50bf-4a00-8a21-c64752d6ed7e</td>\n",
       "      <td>Hair Removal</td>\n",
       "      <td>Health &amp; Wellness</td>\n",
       "    </tr>\n",
       "  </tbody>\n",
       "</table>\n",
       "</div>"
      ],
      "text/plain": [
       "               BRAND BRAND_BELONGS_TO_CATEGORY  RECEIPTS  \\\n",
       "0   CASEYS GEN STORE          Tobacco Products   2950931   \n",
       "1  RJ REYNOLDS VAPOR          Tobacco Products        21   \n",
       "2   CASEYS GEN STORE                    Mature   2859240   \n",
       "3             EQUATE              Hair Removal    893268   \n",
       "4           BARBASOL              Hair Removal    283926   \n",
       "\n",
       "                            CATEGORY_ID  PRODUCT_CATEGORY IS_CHILD_CATEGORY_TO  \n",
       "0  4442fa51-d4b7-4d56-ad7c-d18cfd2aff84  Tobacco Products               Mature  \n",
       "1  4442fa51-d4b7-4d56-ad7c-d18cfd2aff84  Tobacco Products               Mature  \n",
       "2  f81d7064-52da-4bd7-98eb-7a14be267720            Mature               Mature  \n",
       "3  539953fe-50bf-4a00-8a21-c64752d6ed7e      Hair Removal    Health & Wellness  \n",
       "4  539953fe-50bf-4a00-8a21-c64752d6ed7e      Hair Removal    Health & Wellness  "
      ]
     },
     "execution_count": 10,
     "metadata": {},
     "output_type": "execute_result"
    }
   ],
   "source": [
    "brand_category_df = pd.merge(brand_df, cat_df, left_on=\"BRAND_BELONGS_TO_CATEGORY\", right_on=\"PRODUCT_CATEGORY\")\n",
    "brand_category_df.head()"
   ]
  },
  {
   "cell_type": "code",
   "execution_count": 11,
   "id": "108e903d-77c8-4c40-9537-f7f837409283",
   "metadata": {},
   "outputs": [
    {
     "data": {
      "text/html": [
       "<div>\n",
       "<style scoped>\n",
       "    .dataframe tbody tr th:only-of-type {\n",
       "        vertical-align: middle;\n",
       "    }\n",
       "\n",
       "    .dataframe tbody tr th {\n",
       "        vertical-align: top;\n",
       "    }\n",
       "\n",
       "    .dataframe thead th {\n",
       "        text-align: right;\n",
       "    }\n",
       "</style>\n",
       "<table border=\"1\" class=\"dataframe\">\n",
       "  <thead>\n",
       "    <tr style=\"text-align: right;\">\n",
       "      <th></th>\n",
       "      <th>RECEIPTS</th>\n",
       "    </tr>\n",
       "    <tr>\n",
       "      <th>IS_CHILD_CATEGORY_TO</th>\n",
       "      <th></th>\n",
       "    </tr>\n",
       "  </thead>\n",
       "  <tbody>\n",
       "    <tr>\n",
       "      <th>Mature</th>\n",
       "      <td>5810192</td>\n",
       "    </tr>\n",
       "    <tr>\n",
       "      <th>Health &amp; Wellness</th>\n",
       "      <td>4162256</td>\n",
       "    </tr>\n",
       "    <tr>\n",
       "      <th>Alcohol</th>\n",
       "      <td>2458470</td>\n",
       "    </tr>\n",
       "    <tr>\n",
       "      <th>Beverages</th>\n",
       "      <td>1529301</td>\n",
       "    </tr>\n",
       "    <tr>\n",
       "      <th>Snacks</th>\n",
       "      <td>1446196</td>\n",
       "    </tr>\n",
       "    <tr>\n",
       "      <th>Pantry</th>\n",
       "      <td>1193462</td>\n",
       "    </tr>\n",
       "    <tr>\n",
       "      <th>Deli &amp; Bakery</th>\n",
       "      <td>506289</td>\n",
       "    </tr>\n",
       "    <tr>\n",
       "      <th>Household Supplies</th>\n",
       "      <td>367779</td>\n",
       "    </tr>\n",
       "    <tr>\n",
       "      <th>Frozen</th>\n",
       "      <td>332468</td>\n",
       "    </tr>\n",
       "    <tr>\n",
       "      <th>Dairy</th>\n",
       "      <td>293828</td>\n",
       "    </tr>\n",
       "    <tr>\n",
       "      <th>Beauty</th>\n",
       "      <td>292753</td>\n",
       "    </tr>\n",
       "    <tr>\n",
       "      <th>Sports Drinks &amp; Enhanced Waters</th>\n",
       "      <td>118020</td>\n",
       "    </tr>\n",
       "    <tr>\n",
       "      <th>Baby &amp; Toddler</th>\n",
       "      <td>69280</td>\n",
       "    </tr>\n",
       "    <tr>\n",
       "      <th>Frozen Meat</th>\n",
       "      <td>63140</td>\n",
       "    </tr>\n",
       "    <tr>\n",
       "      <th>Candy</th>\n",
       "      <td>47493</td>\n",
       "    </tr>\n",
       "    <tr>\n",
       "      <th>Pasta Sauce</th>\n",
       "      <td>36104</td>\n",
       "    </tr>\n",
       "    <tr>\n",
       "      <th>Pasta &amp; Noodles</th>\n",
       "      <td>29785</td>\n",
       "    </tr>\n",
       "    <tr>\n",
       "      <th>Animals &amp; Pet Supplies</th>\n",
       "      <td>5104</td>\n",
       "    </tr>\n",
       "    <tr>\n",
       "      <th>Meat &amp; Seafood</th>\n",
       "      <td>1653</td>\n",
       "    </tr>\n",
       "    <tr>\n",
       "      <th>Puffed Snacks</th>\n",
       "      <td>630</td>\n",
       "    </tr>\n",
       "    <tr>\n",
       "      <th>Oral Care</th>\n",
       "      <td>385</td>\n",
       "    </tr>\n",
       "    <tr>\n",
       "      <th>Spirits</th>\n",
       "      <td>296</td>\n",
       "    </tr>\n",
       "    <tr>\n",
       "      <th>Home &amp; Garden</th>\n",
       "      <td>18</td>\n",
       "    </tr>\n",
       "  </tbody>\n",
       "</table>\n",
       "</div>"
      ],
      "text/plain": [
       "                                 RECEIPTS\n",
       "IS_CHILD_CATEGORY_TO                     \n",
       "Mature                            5810192\n",
       "Health & Wellness                 4162256\n",
       "Alcohol                           2458470\n",
       "Beverages                         1529301\n",
       "Snacks                            1446196\n",
       "Pantry                            1193462\n",
       "Deli & Bakery                      506289\n",
       "Household Supplies                 367779\n",
       "Frozen                             332468\n",
       "Dairy                              293828\n",
       "Beauty                             292753\n",
       "Sports Drinks & Enhanced Waters    118020\n",
       "Baby & Toddler                      69280\n",
       "Frozen Meat                         63140\n",
       "Candy                               47493\n",
       "Pasta Sauce                         36104\n",
       "Pasta & Noodles                     29785\n",
       "Animals & Pet Supplies               5104\n",
       "Meat & Seafood                       1653\n",
       "Puffed Snacks                         630\n",
       "Oral Care                             385\n",
       "Spirits                               296\n",
       "Home & Garden                          18"
      ]
     },
     "execution_count": 11,
     "metadata": {},
     "output_type": "execute_result"
    }
   ],
   "source": [
    "parent_cat_df = brand_category_df[[\"RECEIPTS\", \"IS_CHILD_CATEGORY_TO\"]].groupby([\"IS_CHILD_CATEGORY_TO\"]).sum().sort_values(by=[\"RECEIPTS\"], ascending=False)\n",
    "parent_cat_df"
   ]
  },
  {
   "cell_type": "code",
   "execution_count": 12,
   "id": "5b20fa00-bdc7-401c-b521-a5ceb9b8cdc7",
   "metadata": {},
   "outputs": [
    {
     "name": "stdout",
     "output_type": "stream",
     "text": [
      "<class 'pandas.core.frame.DataFrame'>\n",
      "RangeIndex: 826 entries, 0 to 825\n",
      "Data columns (total 5 columns):\n",
      " #   Column                     Non-Null Count  Dtype  \n",
      "---  ------                     --------------  -----  \n",
      " 0   OFFER                      826 non-null    object \n",
      " 1   RETAILER                   398 non-null    object \n",
      " 2   BRAND                      826 non-null    object \n",
      " 3   BRAND_BELONGS_TO_CATEGORY  776 non-null    object \n",
      " 4   RECEIPTS                   776 non-null    float64\n",
      "dtypes: float64(1), object(4)\n",
      "memory usage: 32.4+ KB\n"
     ]
    }
   ],
   "source": [
    "brand_offer_df = pd.merge(offer_df,brand_df, on=\"BRAND\", how=\"left\")\n",
    "brand_offer_df.info()"
   ]
  },
  {
   "cell_type": "code",
   "execution_count": 15,
   "id": "bbbcacd9",
   "metadata": {},
   "outputs": [
    {
     "data": {
      "text/html": [
       "<div>\n",
       "<style scoped>\n",
       "    .dataframe tbody tr th:only-of-type {\n",
       "        vertical-align: middle;\n",
       "    }\n",
       "\n",
       "    .dataframe tbody tr th {\n",
       "        vertical-align: top;\n",
       "    }\n",
       "\n",
       "    .dataframe thead th {\n",
       "        text-align: right;\n",
       "    }\n",
       "</style>\n",
       "<table border=\"1\" class=\"dataframe\">\n",
       "  <thead>\n",
       "    <tr style=\"text-align: right;\">\n",
       "      <th></th>\n",
       "      <th>product_category</th>\n",
       "      <th>RELATED_CAT</th>\n",
       "    </tr>\n",
       "  </thead>\n",
       "  <tbody>\n",
       "    <tr>\n",
       "      <th>0</th>\n",
       "      <td>Alcohol</td>\n",
       "      <td>Beer, Malt Beverages, Hard Seltzers, Sodas, Wa...</td>\n",
       "    </tr>\n",
       "    <tr>\n",
       "      <th>1</th>\n",
       "      <td>Animals &amp; Pet Supplies</td>\n",
       "      <td>Dog Supplies</td>\n",
       "    </tr>\n",
       "    <tr>\n",
       "      <th>2</th>\n",
       "      <td>Baby &amp; Toddler</td>\n",
       "      <td>Baby Bathing, Potty Training, Baby Safety, Dia...</td>\n",
       "    </tr>\n",
       "    <tr>\n",
       "      <th>3</th>\n",
       "      <td>Beauty</td>\n",
       "      <td>Cosmetic Tools, Makeup, Nail Care, Body Fragra...</td>\n",
       "    </tr>\n",
       "    <tr>\n",
       "      <th>4</th>\n",
       "      <td>Beverages</td>\n",
       "      <td>Coffee, Meal Replacement Beverages, Vegetable ...</td>\n",
       "    </tr>\n",
       "  </tbody>\n",
       "</table>\n",
       "</div>"
      ],
      "text/plain": [
       "         product_category                                        RELATED_CAT\n",
       "0                 Alcohol  Beer, Malt Beverages, Hard Seltzers, Sodas, Wa...\n",
       "1  Animals & Pet Supplies                                       Dog Supplies\n",
       "2          Baby & Toddler  Baby Bathing, Potty Training, Baby Safety, Dia...\n",
       "3                  Beauty  Cosmetic Tools, Makeup, Nail Care, Body Fragra...\n",
       "4               Beverages  Coffee, Meal Replacement Beverages, Vegetable ..."
      ]
     },
     "execution_count": 15,
     "metadata": {},
     "output_type": "execute_result"
    }
   ],
   "source": [
    "new_categories = []\n",
    "for parent_category, group in cat_df.groupby(\"IS_CHILD_CATEGORY_TO\"):\n",
    "    sister_products = \", \".join(group[\"PRODUCT_CATEGORY\"])\n",
    "    new_categories.append([parent_category, sister_products])\n",
    "\n",
    "new_categories = pd.DataFrame(new_categories, columns=[\"product_category\", \"RELATED_CAT\"])\n",
    "new_categories.head()"
   ]
  },
  {
   "cell_type": "code",
   "execution_count": 16,
   "id": "fee911af-b4f5-4438-88a4-45c6cbcdf1a1",
   "metadata": {},
   "outputs": [
    {
     "data": {
      "text/html": [
       "<div>\n",
       "<style scoped>\n",
       "    .dataframe tbody tr th:only-of-type {\n",
       "        vertical-align: middle;\n",
       "    }\n",
       "\n",
       "    .dataframe tbody tr th {\n",
       "        vertical-align: top;\n",
       "    }\n",
       "\n",
       "    .dataframe thead th {\n",
       "        text-align: right;\n",
       "    }\n",
       "</style>\n",
       "<table border=\"1\" class=\"dataframe\">\n",
       "  <thead>\n",
       "    <tr style=\"text-align: right;\">\n",
       "      <th></th>\n",
       "      <th>PRODUCT_CATEGORY</th>\n",
       "      <th>IS_CHILD_CATEGORY_TO</th>\n",
       "      <th>RELATED_CAT</th>\n",
       "    </tr>\n",
       "  </thead>\n",
       "  <tbody>\n",
       "    <tr>\n",
       "      <th>0</th>\n",
       "      <td>Red Pasta Sauce</td>\n",
       "      <td>Pasta Sauce</td>\n",
       "      <td>Red Pasta Sauce, Alfredo &amp; White Pasta Sauce, ...</td>\n",
       "    </tr>\n",
       "    <tr>\n",
       "      <th>1</th>\n",
       "      <td>Alfredo &amp; White Pasta Sauce</td>\n",
       "      <td>Pasta Sauce</td>\n",
       "      <td>Red Pasta Sauce, Alfredo &amp; White Pasta Sauce, ...</td>\n",
       "    </tr>\n",
       "    <tr>\n",
       "      <th>2</th>\n",
       "      <td>Cooking &amp; Baking</td>\n",
       "      <td>Pantry</td>\n",
       "      <td>Cooking &amp; Baking, Packaged Seafood, Nut Butter...</td>\n",
       "    </tr>\n",
       "    <tr>\n",
       "      <th>3</th>\n",
       "      <td>Packaged Seafood</td>\n",
       "      <td>Pantry</td>\n",
       "      <td>Cooking &amp; Baking, Packaged Seafood, Nut Butter...</td>\n",
       "    </tr>\n",
       "    <tr>\n",
       "      <th>4</th>\n",
       "      <td>Feminine Hygeine</td>\n",
       "      <td>Health &amp; Wellness</td>\n",
       "      <td>Feminine Hygeine, Sexual Health, Foot Care, De...</td>\n",
       "    </tr>\n",
       "    <tr>\n",
       "      <th>...</th>\n",
       "      <td>...</td>\n",
       "      <td>...</td>\n",
       "      <td>...</td>\n",
       "    </tr>\n",
       "    <tr>\n",
       "      <th>113</th>\n",
       "      <td>Frozen Turkey</td>\n",
       "      <td>Frozen Meat</td>\n",
       "      <td>Frozen Turkey, Frozen Chicken, Frozen Beef, Fr...</td>\n",
       "    </tr>\n",
       "    <tr>\n",
       "      <th>114</th>\n",
       "      <td>Frozen Chicken</td>\n",
       "      <td>Frozen Meat</td>\n",
       "      <td>Frozen Turkey, Frozen Chicken, Frozen Beef, Fr...</td>\n",
       "    </tr>\n",
       "    <tr>\n",
       "      <th>115</th>\n",
       "      <td>Frozen Beef</td>\n",
       "      <td>Frozen Meat</td>\n",
       "      <td>Frozen Turkey, Frozen Chicken, Frozen Beef, Fr...</td>\n",
       "    </tr>\n",
       "    <tr>\n",
       "      <th>116</th>\n",
       "      <td>Frozen Seafood</td>\n",
       "      <td>Frozen Meat</td>\n",
       "      <td>Frozen Turkey, Frozen Chicken, Frozen Beef, Fr...</td>\n",
       "    </tr>\n",
       "    <tr>\n",
       "      <th>117</th>\n",
       "      <td>Gum</td>\n",
       "      <td>Candy</td>\n",
       "      <td>Gum</td>\n",
       "    </tr>\n",
       "  </tbody>\n",
       "</table>\n",
       "<p>118 rows × 3 columns</p>\n",
       "</div>"
      ],
      "text/plain": [
       "                PRODUCT_CATEGORY IS_CHILD_CATEGORY_TO  \\\n",
       "0                Red Pasta Sauce          Pasta Sauce   \n",
       "1    Alfredo & White Pasta Sauce          Pasta Sauce   \n",
       "2               Cooking & Baking               Pantry   \n",
       "3               Packaged Seafood               Pantry   \n",
       "4               Feminine Hygeine    Health & Wellness   \n",
       "..                           ...                  ...   \n",
       "113                Frozen Turkey          Frozen Meat   \n",
       "114               Frozen Chicken          Frozen Meat   \n",
       "115                  Frozen Beef          Frozen Meat   \n",
       "116               Frozen Seafood          Frozen Meat   \n",
       "117                          Gum                Candy   \n",
       "\n",
       "                                           RELATED_CAT  \n",
       "0    Red Pasta Sauce, Alfredo & White Pasta Sauce, ...  \n",
       "1    Red Pasta Sauce, Alfredo & White Pasta Sauce, ...  \n",
       "2    Cooking & Baking, Packaged Seafood, Nut Butter...  \n",
       "3    Cooking & Baking, Packaged Seafood, Nut Butter...  \n",
       "4    Feminine Hygeine, Sexual Health, Foot Care, De...  \n",
       "..                                                 ...  \n",
       "113  Frozen Turkey, Frozen Chicken, Frozen Beef, Fr...  \n",
       "114  Frozen Turkey, Frozen Chicken, Frozen Beef, Fr...  \n",
       "115  Frozen Turkey, Frozen Chicken, Frozen Beef, Fr...  \n",
       "116  Frozen Turkey, Frozen Chicken, Frozen Beef, Fr...  \n",
       "117                                                Gum  \n",
       "\n",
       "[118 rows x 3 columns]"
      ]
     },
     "execution_count": 16,
     "metadata": {},
     "output_type": "execute_result"
    }
   ],
   "source": [
    "cat_related_df = pd.merge(cat_df, new_categories, left_on=\"IS_CHILD_CATEGORY_TO\", right_on=\"product_category\", how=\"left\").drop(columns=[\"CATEGORY_ID\",\"product_category\"]) \n",
    "cat_related_df"
   ]
  },
  {
   "cell_type": "code",
   "execution_count": 17,
   "id": "f5f50853-7222-46b8-8e32-ac4c5ad76d2b",
   "metadata": {},
   "outputs": [],
   "source": [
    "def clean_text(text):\n",
    "    import re\n",
    "    text = str(text).lower()\n",
    "    text = re.sub('[-]+',' ', text)\n",
    "    text = re.sub('[^A-Za-z0-9\\[\\]\\s]+', '', text)   \n",
    "    #text = text.strip()\n",
    "    return text"
   ]
  },
  {
   "cell_type": "code",
   "execution_count": 18,
   "id": "4866a2a2",
   "metadata": {},
   "outputs": [
    {
     "data": {
      "text/html": [
       "<div>\n",
       "<style scoped>\n",
       "    .dataframe tbody tr th:only-of-type {\n",
       "        vertical-align: middle;\n",
       "    }\n",
       "\n",
       "    .dataframe tbody tr th {\n",
       "        vertical-align: top;\n",
       "    }\n",
       "\n",
       "    .dataframe thead th {\n",
       "        text-align: right;\n",
       "    }\n",
       "</style>\n",
       "<table border=\"1\" class=\"dataframe\">\n",
       "  <thead>\n",
       "    <tr style=\"text-align: right;\">\n",
       "      <th></th>\n",
       "      <th>BRAND</th>\n",
       "      <th>PRODUCT_CATEGORY</th>\n",
       "      <th>IS_CHILD_CATEGORY_TO</th>\n",
       "    </tr>\n",
       "  </thead>\n",
       "  <tbody>\n",
       "    <tr>\n",
       "      <th>0</th>\n",
       "      <td>CASEYS GEN STORE</td>\n",
       "      <td>Tobacco Products</td>\n",
       "      <td>Mature</td>\n",
       "    </tr>\n",
       "    <tr>\n",
       "      <th>1</th>\n",
       "      <td>CASEYS GEN STORE</td>\n",
       "      <td>Mature</td>\n",
       "      <td>Mature</td>\n",
       "    </tr>\n",
       "    <tr>\n",
       "      <th>2</th>\n",
       "      <td>EQUATE</td>\n",
       "      <td>Hair Removal</td>\n",
       "      <td>Health &amp; Wellness</td>\n",
       "    </tr>\n",
       "    <tr>\n",
       "      <th>3</th>\n",
       "      <td>PALMOLIVE</td>\n",
       "      <td>Bath &amp; Body</td>\n",
       "      <td>Health &amp; Wellness</td>\n",
       "    </tr>\n",
       "    <tr>\n",
       "      <th>4</th>\n",
       "      <td>DAWN</td>\n",
       "      <td>Bath &amp; Body</td>\n",
       "      <td>Health &amp; Wellness</td>\n",
       "    </tr>\n",
       "  </tbody>\n",
       "</table>\n",
       "</div>"
      ],
      "text/plain": [
       "              BRAND  PRODUCT_CATEGORY IS_CHILD_CATEGORY_TO\n",
       "0  CASEYS GEN STORE  Tobacco Products               Mature\n",
       "1  CASEYS GEN STORE            Mature               Mature\n",
       "2            EQUATE      Hair Removal    Health & Wellness\n",
       "3         PALMOLIVE       Bath & Body    Health & Wellness\n",
       "4              DAWN       Bath & Body    Health & Wellness"
      ]
     },
     "execution_count": 18,
     "metadata": {},
     "output_type": "execute_result"
    }
   ],
   "source": [
    "brand_cat_par_cat = brand_df.merge(cat_df, left_on=\"BRAND_BELONGS_TO_CATEGORY\", right_on=\"PRODUCT_CATEGORY\", how=\"left\")[[\"BRAND\", \"PRODUCT_CATEGORY\", \"IS_CHILD_CATEGORY_TO\"]]\n",
    "brand_cat_par_cat.head()"
   ]
  },
  {
   "cell_type": "code",
   "execution_count": 19,
   "id": "ca46aee3",
   "metadata": {},
   "outputs": [
    {
     "data": {
      "text/html": [
       "<div>\n",
       "<style scoped>\n",
       "    .dataframe tbody tr th:only-of-type {\n",
       "        vertical-align: middle;\n",
       "    }\n",
       "\n",
       "    .dataframe tbody tr th {\n",
       "        vertical-align: top;\n",
       "    }\n",
       "\n",
       "    .dataframe thead th {\n",
       "        text-align: right;\n",
       "    }\n",
       "</style>\n",
       "<table border=\"1\" class=\"dataframe\">\n",
       "  <thead>\n",
       "    <tr style=\"text-align: right;\">\n",
       "      <th></th>\n",
       "      <th>BRAND</th>\n",
       "      <th>PRODUCT_CATEGORY</th>\n",
       "      <th>IS_CHILD_CATEGORY_TO</th>\n",
       "    </tr>\n",
       "  </thead>\n",
       "  <tbody>\n",
       "    <tr>\n",
       "      <th>count</th>\n",
       "      <td>9905</td>\n",
       "      <td>9905</td>\n",
       "      <td>9905</td>\n",
       "    </tr>\n",
       "    <tr>\n",
       "      <th>unique</th>\n",
       "      <td>8521</td>\n",
       "      <td>118</td>\n",
       "      <td>23</td>\n",
       "    </tr>\n",
       "    <tr>\n",
       "      <th>top</th>\n",
       "      <td>GOYA</td>\n",
       "      <td>Beer</td>\n",
       "      <td>Alcohol</td>\n",
       "    </tr>\n",
       "    <tr>\n",
       "      <th>freq</th>\n",
       "      <td>29</td>\n",
       "      <td>2142</td>\n",
       "      <td>6241</td>\n",
       "    </tr>\n",
       "  </tbody>\n",
       "</table>\n",
       "</div>"
      ],
      "text/plain": [
       "       BRAND PRODUCT_CATEGORY IS_CHILD_CATEGORY_TO\n",
       "count   9905             9905                 9905\n",
       "unique  8521              118                   23\n",
       "top     GOYA             Beer              Alcohol\n",
       "freq      29             2142                 6241"
      ]
     },
     "execution_count": 19,
     "metadata": {},
     "output_type": "execute_result"
    }
   ],
   "source": [
    "brand_cat_par_cat.describe()"
   ]
  },
  {
   "cell_type": "code",
   "execution_count": 20,
   "id": "16c6a841",
   "metadata": {},
   "outputs": [],
   "source": [
    "all_cat_list = brand_cat_par_cat[\"PRODUCT_CATEGORY\"].unique().tolist()"
   ]
  },
  {
   "cell_type": "code",
   "execution_count": 22,
   "id": "d787b540",
   "metadata": {},
   "outputs": [
    {
     "name": "stdout",
     "output_type": "stream",
     "text": [
      "11994\n",
      "11994\n",
      "11994\n"
     ]
    }
   ],
   "source": [
    "# Prepare synthetic pairs of training data\n",
    "\n",
    "offer_ext = []\n",
    "all_queries = []\n",
    "all_score_list = []\n",
    "for index, items in offer_df.iterrows():\n",
    "    #print(items)\n",
    "    query_list = []\n",
    "    scores = []\n",
    "    offer = items[\"OFFER\"]\n",
    "    retailer = items[\"RETAILER\"]\n",
    "    brnd = items[\"BRAND\"]\n",
    "    offer_token = \"[OFF] \"\n",
    "    brnd_token = \" [BN] \"\n",
    "    ret_token = \" [RN] \"\n",
    "    cat_token = \" [CN] \"\n",
    "    par_token = \" [PCN] \"\n",
    "\n",
    "    offer_str = offer_token + clean_text(offer)\n",
    "\n",
    "    # split offer words and append as queries\n",
    "    for words in clean_text(offer).split():\n",
    "        query_list.append(words)\n",
    "        scores.append(100)\n",
    "    \n",
    "    #split if retailer present and append as queries\n",
    "    if brnd != \"\" and not pd.isna(brnd):\n",
    "        if len(brnd.split()) > 1:\n",
    "            for words in brnd.split():\n",
    "                query_list.append(clean_text(words))\n",
    "                scores.append(100)\n",
    "        else:\n",
    "            query_list.append(clean_text(brnd))\n",
    "            scores.append(100)\n",
    "        offer_str += brnd_token + clean_text(brnd)\n",
    "        \n",
    "        # Fetch categories of that brand\n",
    "        cat_list = brand_cat_par_cat[brand_cat_par_cat[\"BRAND\"] == brnd][\"PRODUCT_CATEGORY\"].tolist()\n",
    "        par_cat_list = brand_cat_par_cat[brand_cat_par_cat[\"BRAND\"] == brnd][\"IS_CHILD_CATEGORY_TO\"].tolist()        \n",
    "\n",
    "        if len(cat_list) > 0:\n",
    "            for cat in cat_list:\n",
    "                if cat != \"\" and not pd.isna(cat):\n",
    "                    if len(cat.split()) > 1:\n",
    "                        for words in cat.split():\n",
    "                            query_list.append(clean_text(words))\n",
    "                            scores.append(90)\n",
    "                    else:\n",
    "                        query_list.append(clean_text(cat))\n",
    "                        scores.append(90)\n",
    "                    offer_str += cat_token + clean_text(cat)\n",
    "        not_rel_par_cat = []\n",
    "        if len(par_cat_list) > 0:\n",
    "            for cat in par_cat_list:\n",
    "                if cat != \"\" and not pd.isna(cat) and offer_str.find(clean_text(cat)) == -1:\n",
    "                    if len(cat.split()) > 1:\n",
    "                        for words in cat.split():\n",
    "                            query_list.append(clean_text(words))\n",
    "                            scores.append(80)\n",
    "                    else:\n",
    "                        query_list.append(clean_text(cat))\n",
    "                        scores.append(80)\n",
    "                    offer_str += par_token + clean_text(cat)\n",
    "            not_rel_par_cat = list(set(all_cat_list).difference(set(par_cat_list)))\n",
    "        else:\n",
    "            not_rel_par_cat = list(all_cat_list)\n",
    "\n",
    "        if len(not_rel_par_cat) > 0:\n",
    "            tot_irrel_cat = len(not_rel_par_cat)\n",
    "            limit = 8\n",
    "            if tot_irrel_cat < limit:\n",
    "                limit = tot_irrel_cat\n",
    "\n",
    "            for cat in not_rel_par_cat[:limit]:\n",
    "                if cat != \"\" and not pd.isna(cat) and offer_str.find(clean_text(cat)) == -1:\n",
    "                    if len(cat.split()) > 1:\n",
    "                        for words in cat.split():\n",
    "                            query_list.append(clean_text(words))\n",
    "                            scores.append(00)\n",
    "                    else:\n",
    "                        query_list.append(clean_text(cat))\n",
    "                        scores.append(0)\n",
    "                    #offer_str += par_token + cat\n",
    "\n",
    "        #negative examples can be generated from brands!= current brand\n",
    "        \n",
    "        \n",
    "    #split if retailer present and append as queries\n",
    "    if retailer != \"\" and not pd.isna(retailer) and offer_str.find(clean_text(retailer)) == -1:\n",
    "        if len(retailer.split()) > 1:\n",
    "            for words in retailer.split():\n",
    "                query_list.append(clean_text(words))\n",
    "                scores.append(100)\n",
    "        else:\n",
    "            query_list.append(clean_text(retailer))\n",
    "            scores.append(100)\n",
    "        offer_str += ret_token + clean_text(retailer)\n",
    "    \n",
    "    #verify len of queries == len of scores\n",
    "\n",
    "    if len(query_list) == len(scores):\n",
    "        offer_ext.extend([offer_str for _ in range(len(query_list))])\n",
    "        all_queries.extend(query_list)\n",
    "        all_score_list.extend(scores)\n",
    "    #break\n",
    "print(len(offer_ext))\n",
    "print(len(all_queries))\n",
    "print(len(all_score_list))"
   ]
  },
  {
   "cell_type": "code",
   "execution_count": 23,
   "id": "92819c06",
   "metadata": {},
   "outputs": [],
   "source": [
    "synthetic_data = pd.DataFrame({\"offer_ext\": offer_ext, \"search_query\": all_queries, \"score\": all_score_list})"
   ]
  },
  {
   "cell_type": "code",
   "execution_count": 24,
   "id": "bab6c714",
   "metadata": {},
   "outputs": [],
   "source": [
    "synthetic_data = pd.DataFrame({\"offer_ext\": offer_ext, \"search_query\": all_queries, \"score\": all_score_list})"
   ]
  },
  {
   "cell_type": "code",
   "execution_count": 25,
   "id": "f8fb947c",
   "metadata": {},
   "outputs": [
    {
     "data": {
      "text/html": [
       "<div>\n",
       "<style scoped>\n",
       "    .dataframe tbody tr th:only-of-type {\n",
       "        vertical-align: middle;\n",
       "    }\n",
       "\n",
       "    .dataframe tbody tr th {\n",
       "        vertical-align: top;\n",
       "    }\n",
       "\n",
       "    .dataframe thead th {\n",
       "        text-align: right;\n",
       "    }\n",
       "</style>\n",
       "<table border=\"1\" class=\"dataframe\">\n",
       "  <thead>\n",
       "    <tr style=\"text-align: right;\">\n",
       "      <th></th>\n",
       "      <th>offer_ext</th>\n",
       "      <th>search_query</th>\n",
       "      <th>score</th>\n",
       "    </tr>\n",
       "  </thead>\n",
       "  <tbody>\n",
       "    <tr>\n",
       "      <th>0</th>\n",
       "      <td>[OFF] spend 50 on a full priced new club membe...</td>\n",
       "      <td>spend</td>\n",
       "      <td>100</td>\n",
       "    </tr>\n",
       "    <tr>\n",
       "      <th>1</th>\n",
       "      <td>[OFF] spend 50 on a full priced new club membe...</td>\n",
       "      <td>50</td>\n",
       "      <td>100</td>\n",
       "    </tr>\n",
       "    <tr>\n",
       "      <th>2</th>\n",
       "      <td>[OFF] spend 50 on a full priced new club membe...</td>\n",
       "      <td>on</td>\n",
       "      <td>100</td>\n",
       "    </tr>\n",
       "    <tr>\n",
       "      <th>3</th>\n",
       "      <td>[OFF] spend 50 on a full priced new club membe...</td>\n",
       "      <td>a</td>\n",
       "      <td>100</td>\n",
       "    </tr>\n",
       "    <tr>\n",
       "      <th>4</th>\n",
       "      <td>[OFF] spend 50 on a full priced new club membe...</td>\n",
       "      <td>full</td>\n",
       "      <td>100</td>\n",
       "    </tr>\n",
       "  </tbody>\n",
       "</table>\n",
       "</div>"
      ],
      "text/plain": [
       "                                           offer_ext search_query  score\n",
       "0  [OFF] spend 50 on a full priced new club membe...        spend    100\n",
       "1  [OFF] spend 50 on a full priced new club membe...           50    100\n",
       "2  [OFF] spend 50 on a full priced new club membe...           on    100\n",
       "3  [OFF] spend 50 on a full priced new club membe...            a    100\n",
       "4  [OFF] spend 50 on a full priced new club membe...         full    100"
      ]
     },
     "execution_count": 25,
     "metadata": {},
     "output_type": "execute_result"
    }
   ],
   "source": [
    "synthetic_data.head()"
   ]
  },
  {
   "cell_type": "code",
   "execution_count": 26,
   "id": "cb2b1097",
   "metadata": {},
   "outputs": [
    {
     "data": {
      "text/html": [
       "<div>\n",
       "<style scoped>\n",
       "    .dataframe tbody tr th:only-of-type {\n",
       "        vertical-align: middle;\n",
       "    }\n",
       "\n",
       "    .dataframe tbody tr th {\n",
       "        vertical-align: top;\n",
       "    }\n",
       "\n",
       "    .dataframe thead th {\n",
       "        text-align: right;\n",
       "    }\n",
       "</style>\n",
       "<table border=\"1\" class=\"dataframe\">\n",
       "  <thead>\n",
       "    <tr style=\"text-align: right;\">\n",
       "      <th></th>\n",
       "      <th>score</th>\n",
       "    </tr>\n",
       "  </thead>\n",
       "  <tbody>\n",
       "    <tr>\n",
       "      <th>count</th>\n",
       "      <td>11994.000000</td>\n",
       "    </tr>\n",
       "    <tr>\n",
       "      <th>mean</th>\n",
       "      <td>46.350675</td>\n",
       "    </tr>\n",
       "    <tr>\n",
       "      <th>std</th>\n",
       "      <td>47.497334</td>\n",
       "    </tr>\n",
       "    <tr>\n",
       "      <th>min</th>\n",
       "      <td>0.000000</td>\n",
       "    </tr>\n",
       "    <tr>\n",
       "      <th>25%</th>\n",
       "      <td>0.000000</td>\n",
       "    </tr>\n",
       "    <tr>\n",
       "      <th>50%</th>\n",
       "      <td>0.000000</td>\n",
       "    </tr>\n",
       "    <tr>\n",
       "      <th>75%</th>\n",
       "      <td>100.000000</td>\n",
       "    </tr>\n",
       "    <tr>\n",
       "      <th>max</th>\n",
       "      <td>100.000000</td>\n",
       "    </tr>\n",
       "  </tbody>\n",
       "</table>\n",
       "</div>"
      ],
      "text/plain": [
       "              score\n",
       "count  11994.000000\n",
       "mean      46.350675\n",
       "std       47.497334\n",
       "min        0.000000\n",
       "25%        0.000000\n",
       "50%        0.000000\n",
       "75%      100.000000\n",
       "max      100.000000"
      ]
     },
     "execution_count": 26,
     "metadata": {},
     "output_type": "execute_result"
    }
   ],
   "source": [
    "synthetic_data.describe()"
   ]
  },
  {
   "cell_type": "code",
   "execution_count": 27,
   "id": "53ffb905",
   "metadata": {},
   "outputs": [
    {
     "data": {
      "image/png": "[encoded data removed]",
      "text/plain": [
       "<Figure size 640x480 with 1 Axes>"
      ]
     },
     "metadata": {},
     "output_type": "display_data"
    }
   ],
   "source": [
    "import matplotlib.pyplot as plt\n",
    "# Create a histogram of the \"Age\" column\n",
    "plt.hist(synthetic_data['score'], bins=5, edgecolor='k')\n",
    "plt.xlabel('Scores')\n",
    "plt.ylabel('Frequency')\n",
    "plt.title('All Data Distribution')\n",
    "plt.show()"
   ]
  },
  {
   "cell_type": "code",
   "execution_count": 28,
   "id": "bdf0ff24",
   "metadata": {},
   "outputs": [],
   "source": [
    "synthetic_data.to_csv(\"../data/processed/synthetic_pair/all_synth_data.csv\",index=False)"
   ]
  },
  {
   "cell_type": "code",
   "execution_count": 29,
   "id": "50079484",
   "metadata": {},
   "outputs": [],
   "source": [
    "from sklearn.model_selection import train_test_split\n",
    "train_ratio = 0.65\n",
    "val_ratio = 0.25\n",
    "test_ratio = 0.1"
   ]
  },
  {
   "cell_type": "code",
   "execution_count": 30,
   "id": "84adf981",
   "metadata": {},
   "outputs": [],
   "source": [
    "train_df, temp_df = train_test_split(synthetic_data, test_size=1 - train_ratio, random_state=42, shuffle=True)\n",
    "test_df, val_df = train_test_split(temp_df, test_size=val_ratio / (val_ratio + test_ratio), random_state=42, shuffle=True)"
   ]
  },
  {
   "cell_type": "code",
   "execution_count": 31,
   "id": "be5a3c1d",
   "metadata": {},
   "outputs": [
    {
     "name": "stdout",
     "output_type": "stream",
     "text": [
      "7796 2999 1199\n"
     ]
    }
   ],
   "source": [
    "print(len(train_df), len(val_df), len(test_df))"
   ]
  },
  {
   "cell_type": "code",
   "execution_count": null,
   "id": "ce014b3c",
   "metadata": {},
   "outputs": [],
   "source": []
  },
  {
   "cell_type": "code",
   "execution_count": 32,
   "id": "73aad417",
   "metadata": {},
   "outputs": [
    {
     "data": {
      "image/png": "[encoded data removed]",
      "text/plain": [
       "<Figure size 640x480 with 1 Axes>"
      ]
     },
     "metadata": {},
     "output_type": "display_data"
    }
   ],
   "source": [
    "\n",
    "plt.hist(train_df['score'], bins=5, edgecolor='k')\n",
    "plt.xlabel('Scores')\n",
    "plt.ylabel('Frequency')\n",
    "plt.title('Train Data Distribution')\n",
    "plt.show()"
   ]
  },
  {
   "cell_type": "code",
   "execution_count": 33,
   "id": "d99e379f",
   "metadata": {},
   "outputs": [
    {
     "data": {
      "image/png": "[encoded data removed]",
      "text/plain": [
       "<Figure size 640x480 with 1 Axes>"
      ]
     },
     "metadata": {},
     "output_type": "display_data"
    }
   ],
   "source": [
    "plt.hist(val_df['score'], bins=5, edgecolor='k')\n",
    "plt.xlabel('Scores')\n",
    "plt.ylabel('Frequency')\n",
    "plt.title('Val Data Distribution')\n",
    "plt.show()"
   ]
  },
  {
   "cell_type": "code",
   "execution_count": 34,
   "id": "8585c6a5",
   "metadata": {},
   "outputs": [
    {
     "data": {
      "image/png": "[encoded data removed]",
      "text/plain": [
       "<Figure size 640x480 with 1 Axes>"
      ]
     },
     "metadata": {},
     "output_type": "display_data"
    }
   ],
   "source": [
    "plt.hist(test_df['score'], bins=5, edgecolor='k')\n",
    "plt.xlabel('Scores')\n",
    "plt.ylabel('Frequency')\n",
    "plt.title('Test Data Distribution')\n",
    "plt.show()"
   ]
  },
  {
   "cell_type": "code",
   "execution_count": 35,
   "id": "98d42f6f",
   "metadata": {},
   "outputs": [],
   "source": [
    "final_data = DatasetDict({\n",
    "    \"train\" : Dataset.from_pandas(train_df).remove_columns([\"__index_level_0__\"]),\n",
    "    \"val\" : Dataset.from_pandas(val_df).remove_columns([\"__index_level_0__\"]),\n",
    "    \"test\" : Dataset.from_pandas(test_df).remove_columns([\"__index_level_0__\"])\n",
    "})"
   ]
  },
  {
   "cell_type": "code",
   "execution_count": 36,
   "id": "fdd97f14",
   "metadata": {},
   "outputs": [
    {
     "data": {
      "text/plain": [
       "DatasetDict({\n",
       "    train: Dataset({\n",
       "        features: ['offer_ext', 'search_query', 'score'],\n",
       "        num_rows: 7796\n",
       "    })\n",
       "    val: Dataset({\n",
       "        features: ['offer_ext', 'search_query', 'score'],\n",
       "        num_rows: 2999\n",
       "    })\n",
       "    test: Dataset({\n",
       "        features: ['offer_ext', 'search_query', 'score'],\n",
       "        num_rows: 1199\n",
       "    })\n",
       "})"
      ]
     },
     "execution_count": 36,
     "metadata": {},
     "output_type": "execute_result"
    }
   ],
   "source": [
    "final_data"
   ]
  },
  {
   "cell_type": "code",
   "execution_count": 37,
   "id": "0ee88bb0",
   "metadata": {},
   "outputs": [
    {
     "data": {
      "application/vnd.jupyter.widget-view+json": {
       "model_id": "5d9c0edb4d25431587ab39058f61ae61",
       "version_major": 2,
       "version_minor": 0
      },
      "text/plain": [
       "Saving the dataset (0/1 shards):   0%|          | 0/7796 [00:00<?, ? examples/s]"
      ]
     },
     "metadata": {},
     "output_type": "display_data"
    },
    {
     "data": {
      "application/vnd.jupyter.widget-view+json": {
       "model_id": "0729c94717cb4b7696a7cea6b9eb3c7e",
       "version_major": 2,
       "version_minor": 0
      },
      "text/plain": [
       "Saving the dataset (0/1 shards):   0%|          | 0/2999 [00:00<?, ? examples/s]"
      ]
     },
     "metadata": {},
     "output_type": "display_data"
    },
    {
     "data": {
      "application/vnd.jupyter.widget-view+json": {
       "model_id": "5541d63466f242e4a64028e7b172936e",
       "version_major": 2,
       "version_minor": 0
      },
      "text/plain": [
       "Saving the dataset (0/1 shards):   0%|          | 0/1199 [00:00<?, ? examples/s]"
      ]
     },
     "metadata": {},
     "output_type": "display_data"
    }
   ],
   "source": [
    "final_data.save_to_disk(\"../data/processed/synthetic_pair/synthetic_search_data/\")"
   ]
  },
  {
   "cell_type": "code",
   "execution_count": 38,
   "id": "32fcb641",
   "metadata": {},
   "outputs": [],
   "source": [
    "## Check if loaded the data?"
   ]
  },
  {
   "cell_type": "code",
   "execution_count": 39,
   "id": "01444dbd",
   "metadata": {},
   "outputs": [],
   "source": [
    "dataset_search = load_from_disk(\"../data/processed/synthetic_pair/synthetic_search_data/\")"
   ]
  },
  {
   "cell_type": "code",
   "execution_count": 40,
   "id": "be396882",
   "metadata": {},
   "outputs": [
    {
     "data": {
      "text/plain": [
       "DatasetDict({\n",
       "    train: Dataset({\n",
       "        features: ['offer_ext', 'search_query', 'score'],\n",
       "        num_rows: 7796\n",
       "    })\n",
       "    val: Dataset({\n",
       "        features: ['offer_ext', 'search_query', 'score'],\n",
       "        num_rows: 2999\n",
       "    })\n",
       "    test: Dataset({\n",
       "        features: ['offer_ext', 'search_query', 'score'],\n",
       "        num_rows: 1199\n",
       "    })\n",
       "})"
      ]
     },
     "execution_count": 40,
     "metadata": {},
     "output_type": "execute_result"
    }
   ],
   "source": [
    "dataset_search"
   ]
  },
  {
   "cell_type": "code",
   "execution_count": null,
   "id": "d466df20",
   "metadata": {},
   "outputs": [],
   "source": []
  },
  {
   "cell_type": "code",
   "execution_count": null,
   "id": "9353f542",
   "metadata": {},
   "outputs": [],
   "source": []
  },
  {
   "cell_type": "code",
   "execution_count": null,
   "id": "b4cfa93c",
   "metadata": {},
   "outputs": [],
   "source": []
  },
  {
   "cell_type": "code",
   "execution_count": 294,
   "id": "c29fe223-3537-4aca-bb24-93ee3f1ed94a",
   "metadata": {},
   "outputs": [],
   "source": []
  }
 ],
 "metadata": {
  "kernelspec": {
   "display_name": "Python 3 (ipykernel)",
   "language": "python",
   "name": "python3"
  },
  "language_info": {
   "codemirror_mode": {
    "name": "ipython",
    "version": 3
   },
   "file_extension": ".py",
   "mimetype": "text/x-python",
   "name": "python",
   "nbconvert_exporter": "python",
   "pygments_lexer": "ipython3",
   "version": "3.10.0"
  }
 },
 "nbformat": 4,
 "nbformat_minor": 5
}

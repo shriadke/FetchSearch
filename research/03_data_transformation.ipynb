{
 "cells": [
  {
   "cell_type": "code",
   "execution_count": 1,
   "metadata": {},
   "outputs": [],
   "source": [
    "import os"
   ]
  },
  {
   "cell_type": "code",
   "execution_count": 2,
   "metadata": {},
   "outputs": [],
   "source": [
    "os.chdir(\"../\")"
   ]
  },
  {
   "cell_type": "code",
   "execution_count": 3,
   "metadata": {},
   "outputs": [
    {
     "data": {
      "text/plain": [
       "'c:\\\\Users\\\\shrin\\\\Documents\\\\Python_Scripts\\\\FetchSearch'"
      ]
     },
     "execution_count": 3,
     "metadata": {},
     "output_type": "execute_result"
    }
   ],
   "source": [
    "pwd"
   ]
  },
  {
   "cell_type": "code",
   "execution_count": 4,
   "metadata": {},
   "outputs": [],
   "source": [
    "from dataclasses import dataclass\n",
    "from pathlib import Path\n",
    "\n",
    "@dataclass(frozen=True)\n",
    "class DataTransformationConfig():\n",
    "    root_dir: Path\n",
    "    data_path: Path"
   ]
  },
  {
   "cell_type": "code",
   "execution_count": 5,
   "metadata": {},
   "outputs": [],
   "source": [
    "from fetchSearch.constants import *\n",
    "from fetchSearch.utils.common import read_yaml, create_directories"
   ]
  },
  {
   "cell_type": "code",
   "execution_count": 6,
   "metadata": {},
   "outputs": [],
   "source": [
    "class ConfigurationManager:\n",
    "    def __init__(\n",
    "        self,\n",
    "        config_filepath = CONFIG_FILE_PATH,\n",
    "        params_filepath = PARAMS_FILE_PATH):\n",
    "\n",
    "        self.config = read_yaml(config_filepath)\n",
    "        self.params = read_yaml(params_filepath)\n",
    "\n",
    "        create_directories([self.config.artifacts_root])\n",
    "\n",
    "\n",
    "    \n",
    "    def get_data_transformation_config(self) -> DataTransformationConfig:\n",
    "        config = self.config.data_transformation\n",
    "\n",
    "        create_directories([config.root_dir])\n",
    "\n",
    "        data_transformation_config = DataTransformationConfig(\n",
    "            root_dir=config.root_dir,\n",
    "            data_path=config.data_path\n",
    "        )\n",
    "\n",
    "        return data_transformation_config"
   ]
  },
  {
   "cell_type": "code",
   "execution_count": 8,
   "metadata": {},
   "outputs": [],
   "source": [
    "import os\n",
    "from fetchSearch.logging import logger\n",
    "from sentence_transformers import InputExample, evaluation\n",
    "from datasets import load_dataset, load_from_disk\n",
    "import torch\n",
    "from torch.utils.data import DataLoader"
   ]
  },
  {
   "cell_type": "code",
   "execution_count": 19,
   "metadata": {},
   "outputs": [],
   "source": [
    "class DataTransformation:\n",
    "    def __init__(self, config: DataTransformationConfig):\n",
    "        self.config = config\n",
    "\n",
    "\n",
    "    def get_dataloader(self, data, split):\n",
    "        examples = []\n",
    "        data = data[split]\n",
    "        n_examples = data.num_rows\n",
    "\n",
    "        for i in range(n_examples):\n",
    "            example = data[i]\n",
    "            examples.append(InputExample(texts=[example['offer_ext'], example['search_query']], label=float(example[\"score\"])))\n",
    "        logger.info(f\"in {split}, We have a {type(examples)} of length {len(examples)} containing {type(examples[0])}'s.\")\n",
    "        dataloader = DataLoader(examples, shuffle=True, batch_size=16)\n",
    "        return examples, dataloader\n",
    "\n",
    "    def convert(self):\n",
    "        dataset = load_from_disk(self.config.data_path)\n",
    "\n",
    "        \n",
    "        train_examples, train_dataloader = self.get_dataloader(dataset, \"train\")\n",
    "        torch.save(train_dataloader, os.path.join(self.config.root_dir,\"train.pth\"))\n",
    "\n",
    "        \n",
    "        val_examples, val_dataloader = self.get_dataloader(dataset, \"val\")\n",
    "        val_evaluator = evaluation.EmbeddingSimilarityEvaluator([],[],[]).from_input_examples(examples=val_examples)\n",
    "        torch.save(val_dataloader, os.path.join(self.config.root_dir,\"val.pth\"))\n",
    "        torch.save(val_evaluator, os.path.join(self.config.root_dir,\"val_eval.pth\"))\n",
    "\n",
    "        test_examples, test_dataloader = self.get_dataloader(dataset, \"test\")\n",
    "        test_evaluator = evaluation.EmbeddingSimilarityEvaluator([],[],[]).from_input_examples(examples=test_examples)\n",
    "        torch.save(test_dataloader, os.path.join(self.config.root_dir,\"test.pth\"))\n",
    "        torch.save(test_evaluator, os.path.join(self.config.root_dir,\"test_eval.pth\"))\n"
   ]
  },
  {
   "cell_type": "code",
   "execution_count": 20,
   "metadata": {},
   "outputs": [
    {
     "name": "stdout",
     "output_type": "stream",
     "text": [
      "[2023-10-09 11:22:25,682: INFO: common: yaml file: config\\config.yaml loaded successfully]\n",
      "[2023-10-09 11:22:25,684: INFO: common: yaml file: params.yaml loaded successfully]\n",
      "[2023-10-09 11:22:25,685: INFO: common: created directory at: artifacts]\n",
      "[2023-10-09 11:22:25,687: INFO: common: created directory at: artifacts/data_transformation]\n",
      "[2023-10-09 11:22:26,211: INFO: 2082942707: in train, We have a <class 'list'> of length 7314 containing <class 'sentence_transformers.readers.InputExample.InputExample'>'s.]\n",
      "[2023-10-09 11:22:26,465: INFO: 2082942707: in val, We have a <class 'list'> of length 2814 containing <class 'sentence_transformers.readers.InputExample.InputExample'>'s.]\n",
      "[2023-10-09 11:22:26,578: INFO: 2082942707: in test, We have a <class 'list'> of length 1125 containing <class 'sentence_transformers.readers.InputExample.InputExample'>'s.]\n"
     ]
    }
   ],
   "source": [
    "try:\n",
    "    config = ConfigurationManager()\n",
    "    data_transformation_config = config.get_data_transformation_config()\n",
    "    data_transformation = DataTransformation(config=data_transformation_config)\n",
    "    data_transformation.convert()\n",
    "except Exception as e:\n",
    "    raise e"
   ]
  },
  {
   "cell_type": "code",
   "execution_count": null,
   "metadata": {},
   "outputs": [],
   "source": []
  }
 ],
 "metadata": {
  "kernelspec": {
   "display_name": "fetch",
   "language": "python",
   "name": "python3"
  },
  "language_info": {
   "codemirror_mode": {
    "name": "ipython",
    "version": 3
   },
   "file_extension": ".py",
   "mimetype": "text/x-python",
   "name": "python",
   "nbconvert_exporter": "python",
   "pygments_lexer": "ipython3",
   "version": "3.10.0"
  }
 },
 "nbformat": 4,
 "nbformat_minor": 2
}

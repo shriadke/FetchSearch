{
 "cells": [
  {
   "cell_type": "code",
   "execution_count": 1,
   "metadata": {},
   "outputs": [],
   "source": [
    "import os"
   ]
  },
  {
   "cell_type": "code",
   "execution_count": 2,
   "metadata": {},
   "outputs": [],
   "source": [
    "os.chdir(\"../\")"
   ]
  },
  {
   "cell_type": "code",
   "execution_count": 3,
   "metadata": {},
   "outputs": [
    {
     "data": {
      "text/plain": [
       "'c:\\\\Users\\\\shrin\\\\Documents\\\\Python_Scripts\\\\FetchSearch'"
      ]
     },
     "execution_count": 3,
     "metadata": {},
     "output_type": "execute_result"
    }
   ],
   "source": [
    "pwd"
   ]
  },
  {
   "cell_type": "code",
   "execution_count": 30,
   "metadata": {},
   "outputs": [],
   "source": [
    "from dataclasses import dataclass\n",
    "from pathlib import Path\n",
    "\n",
    "@dataclass(frozen=True)\n",
    "class ModelTrainerConfig:\n",
    "    root_dir: Path\n",
    "    data_path: Path\n",
    "    model_ckpt: Path\n",
    "    num_train_epochs: int\n",
    "    warmup_steps: int\n",
    "    weight_decay: float\n",
    "    special_tokens: list"
   ]
  },
  {
   "cell_type": "code",
   "execution_count": 31,
   "metadata": {},
   "outputs": [],
   "source": [
    "from fetchSearch.constants import *\n",
    "from fetchSearch.utils.common import read_yaml, create_directories"
   ]
  },
  {
   "cell_type": "code",
   "execution_count": 32,
   "metadata": {},
   "outputs": [],
   "source": [
    "class ConfigurationManager:\n",
    "    def __init__(\n",
    "        self,\n",
    "        config_filepath = CONFIG_FILE_PATH,\n",
    "        params_filepath = PARAMS_FILE_PATH):\n",
    "\n",
    "        self.config = read_yaml(config_filepath)\n",
    "        self.params = read_yaml(params_filepath)\n",
    "\n",
    "        create_directories([self.config.artifacts_root])\n",
    "   \n",
    "    def get_model_trainer_config(self) -> ModelTrainerConfig:\n",
    "        config = self.config.model_trainer\n",
    "        params = self.params.TrainingArguments\n",
    "\n",
    "        create_directories([config.root_dir])\n",
    "\n",
    "        model_trainer_config = ModelTrainerConfig(\n",
    "            root_dir=config.root_dir,\n",
    "            data_path=config.data_path,\n",
    "            model_ckpt = config.model_ckpt,\n",
    "            special_tokens = params.special_tokens,\n",
    "            num_train_epochs = params.num_train_epochs,\n",
    "            warmup_steps = params.warmup_steps,\n",
    "            weight_decay = params.weight_decay           \n",
    "        )\n",
    "\n",
    "        return model_trainer_config"
   ]
  },
  {
   "cell_type": "code",
   "execution_count": 33,
   "metadata": {},
   "outputs": [],
   "source": [
    "import os\n",
    "from fetchSearch.logging import logger\n",
    "from sentence_transformers import SentenceTransformer, models, InputExample, losses, evaluation, util\n",
    "from datasets import load_dataset, load_from_disk\n",
    "import torch\n",
    "from torch.utils.data import DataLoader\n",
    "import tqdm"
   ]
  },
  {
   "cell_type": "code",
   "execution_count": 40,
   "metadata": {},
   "outputs": [],
   "source": [
    "class ModelTrainer:\n",
    "    def __init__(self, config: ModelTrainerConfig):\n",
    "        self.config = config\n",
    "\n",
    "\n",
    "    \n",
    "    def train(self):\n",
    "        device = \"cuda\" if torch.cuda.is_available() else \"cpu\"\n",
    "        sbert_model = SentenceTransformer(self.config.model_ckpt).to(device)\n",
    "        \n",
    "        word_embedding_model = sbert_model._first_module()\n",
    "        word_embedding_model.tokenizer.add_tokens(self.config.special_tokens, special_tokens=True)\n",
    "        word_embedding_model.auto_model.resize_token_embeddings(len(word_embedding_model.tokenizer))\n",
    "\n",
    "        loss = losses.CosineSimilarityLoss(model=sbert_model)\n",
    "\n",
    "        #loading data \n",
    "        #dataset_processed = load_from_disk(self.config.data_path)\n",
    "\n",
    "\n",
    "        train_dataloader = torch.load(os.path.join(self.config.data_path,\"train.pth\"))#DataLoader(train_examples, shuffle=True, batch_size=16)\n",
    "        val_dataloader = torch.load(os.path.join(self.config.data_path,\"val.pth\"))\n",
    "        test_dataloader = torch.load(os.path.join(self.config.data_path,\"test.pth\"))\n",
    "\n",
    "        val_evaluator = torch.load(os.path.join(self.config.data_path,\"val_eval.pth\"))\n",
    "        test_evaluator = torch.load(os.path.join(self.config.data_path,\"test_eval.pth\"))\n",
    "\n",
    "        sbert_model.fit(train_objectives=[(test_dataloader, loss)], \n",
    "                        evaluator=val_evaluator, \n",
    "                        epochs = self.config.num_train_epochs,\n",
    "                        warmup_steps= self.config.warmup_steps, \n",
    "                        weight_decay= self.config.weight_decay, \n",
    "                        output_path= os.path.join(self.config.root_dir,\"saved-search-model\")\n",
    "                    )"
   ]
  },
  {
   "cell_type": "code",
   "execution_count": 41,
   "metadata": {},
   "outputs": [
    {
     "name": "stdout",
     "output_type": "stream",
     "text": [
      "[2023-10-10 00:52:41,849: INFO: common: yaml file: config\\config.yaml loaded successfully]\n",
      "[2023-10-10 00:52:41,852: INFO: common: yaml file: params.yaml loaded successfully]\n",
      "[2023-10-10 00:52:41,853: INFO: common: created directory at: artifacts]\n",
      "['[OFF] ', ' [RN] ', ' [CN] ', ' [PCN] ']\n",
      "1\n",
      "[2023-10-10 00:52:41,853: INFO: common: created directory at: artifacts/model_trainer]\n",
      "[2023-10-10 00:52:41,853: INFO: SentenceTransformer: Load pretrained SentenceTransformer: msmarco-distilbert-base-v4]\n",
      "[2023-10-10 00:52:42,563: INFO: SentenceTransformer: Use pytorch device: cpu]\n"
     ]
    },
    {
     "ename": "AttributeError",
     "evalue": "'DataLoader' object has no attribute '__getitem__'",
     "output_type": "error",
     "traceback": [
      "\u001b[1;31m---------------------------------------------------------------------------\u001b[0m",
      "\u001b[1;31mAttributeError\u001b[0m                            Traceback (most recent call last)",
      "\u001b[1;32mc:\\Users\\shrin\\Documents\\Python_Scripts\\FetchSearch\\research\\04_model_trainer.ipynb Cell 9\u001b[0m line \u001b[0;36m7\n\u001b[0;32m      <a href='vscode-notebook-cell:/c%3A/Users/shrin/Documents/Python_Scripts/FetchSearch/research/04_model_trainer.ipynb#X12sZmlsZQ%3D%3D?line=4'>5</a>\u001b[0m     model_trainer_config\u001b[39m.\u001b[39mtrain()\n\u001b[0;32m      <a href='vscode-notebook-cell:/c%3A/Users/shrin/Documents/Python_Scripts/FetchSearch/research/04_model_trainer.ipynb#X12sZmlsZQ%3D%3D?line=5'>6</a>\u001b[0m \u001b[39mexcept\u001b[39;00m \u001b[39mException\u001b[39;00m \u001b[39mas\u001b[39;00m e:\n\u001b[1;32m----> <a href='vscode-notebook-cell:/c%3A/Users/shrin/Documents/Python_Scripts/FetchSearch/research/04_model_trainer.ipynb#X12sZmlsZQ%3D%3D?line=6'>7</a>\u001b[0m     \u001b[39mraise\u001b[39;00m e\n",
      "\u001b[1;32mc:\\Users\\shrin\\Documents\\Python_Scripts\\FetchSearch\\research\\04_model_trainer.ipynb Cell 9\u001b[0m line \u001b[0;36m5\n\u001b[0;32m      <a href='vscode-notebook-cell:/c%3A/Users/shrin/Documents/Python_Scripts/FetchSearch/research/04_model_trainer.ipynb#X12sZmlsZQ%3D%3D?line=2'>3</a>\u001b[0m     model_trainer_config \u001b[39m=\u001b[39m config\u001b[39m.\u001b[39mget_model_trainer_config()\n\u001b[0;32m      <a href='vscode-notebook-cell:/c%3A/Users/shrin/Documents/Python_Scripts/FetchSearch/research/04_model_trainer.ipynb#X12sZmlsZQ%3D%3D?line=3'>4</a>\u001b[0m     model_trainer_config \u001b[39m=\u001b[39m ModelTrainer(config\u001b[39m=\u001b[39mmodel_trainer_config)\n\u001b[1;32m----> <a href='vscode-notebook-cell:/c%3A/Users/shrin/Documents/Python_Scripts/FetchSearch/research/04_model_trainer.ipynb#X12sZmlsZQ%3D%3D?line=4'>5</a>\u001b[0m     model_trainer_config\u001b[39m.\u001b[39;49mtrain()\n\u001b[0;32m      <a href='vscode-notebook-cell:/c%3A/Users/shrin/Documents/Python_Scripts/FetchSearch/research/04_model_trainer.ipynb#X12sZmlsZQ%3D%3D?line=5'>6</a>\u001b[0m \u001b[39mexcept\u001b[39;00m \u001b[39mException\u001b[39;00m \u001b[39mas\u001b[39;00m e:\n\u001b[0;32m      <a href='vscode-notebook-cell:/c%3A/Users/shrin/Documents/Python_Scripts/FetchSearch/research/04_model_trainer.ipynb#X12sZmlsZQ%3D%3D?line=6'>7</a>\u001b[0m     \u001b[39mraise\u001b[39;00m e\n",
      "\u001b[1;32mc:\\Users\\shrin\\Documents\\Python_Scripts\\FetchSearch\\research\\04_model_trainer.ipynb Cell 9\u001b[0m line \u001b[0;36m2\n\u001b[0;32m     <a href='vscode-notebook-cell:/c%3A/Users/shrin/Documents/Python_Scripts/FetchSearch/research/04_model_trainer.ipynb#X12sZmlsZQ%3D%3D?line=24'>25</a>\u001b[0m val_evaluator \u001b[39m=\u001b[39m torch\u001b[39m.\u001b[39mload(os\u001b[39m.\u001b[39mpath\u001b[39m.\u001b[39mjoin(\u001b[39mself\u001b[39m\u001b[39m.\u001b[39mconfig\u001b[39m.\u001b[39mdata_path,\u001b[39m\"\u001b[39m\u001b[39mval_eval.pth\u001b[39m\u001b[39m\"\u001b[39m))\n\u001b[0;32m     <a href='vscode-notebook-cell:/c%3A/Users/shrin/Documents/Python_Scripts/FetchSearch/research/04_model_trainer.ipynb#X12sZmlsZQ%3D%3D?line=25'>26</a>\u001b[0m test_evaluator \u001b[39m=\u001b[39m torch\u001b[39m.\u001b[39mload(os\u001b[39m.\u001b[39mpath\u001b[39m.\u001b[39mjoin(\u001b[39mself\u001b[39m\u001b[39m.\u001b[39mconfig\u001b[39m.\u001b[39mdata_path,\u001b[39m\"\u001b[39m\u001b[39mtest_eval.pth\u001b[39m\u001b[39m\"\u001b[39m))\n\u001b[1;32m---> <a href='vscode-notebook-cell:/c%3A/Users/shrin/Documents/Python_Scripts/FetchSearch/research/04_model_trainer.ipynb#X12sZmlsZQ%3D%3D?line=27'>28</a>\u001b[0m sbert_model\u001b[39m.\u001b[39mfit(train_objectives\u001b[39m=\u001b[39m[(test_dataloader\u001b[39m.\u001b[39;49m\u001b[39m__getitem__\u001b[39;49m(\u001b[39m0\u001b[39m,\u001b[39m2\u001b[39m), loss)], \n\u001b[0;32m     <a href='vscode-notebook-cell:/c%3A/Users/shrin/Documents/Python_Scripts/FetchSearch/research/04_model_trainer.ipynb#X12sZmlsZQ%3D%3D?line=28'>29</a>\u001b[0m                 evaluator\u001b[39m=\u001b[39mval_evaluator, \n\u001b[0;32m     <a href='vscode-notebook-cell:/c%3A/Users/shrin/Documents/Python_Scripts/FetchSearch/research/04_model_trainer.ipynb#X12sZmlsZQ%3D%3D?line=29'>30</a>\u001b[0m                 epochs \u001b[39m=\u001b[39m \u001b[39mself\u001b[39m\u001b[39m.\u001b[39mconfig\u001b[39m.\u001b[39mnum_train_epochs,\n\u001b[0;32m     <a href='vscode-notebook-cell:/c%3A/Users/shrin/Documents/Python_Scripts/FetchSearch/research/04_model_trainer.ipynb#X12sZmlsZQ%3D%3D?line=30'>31</a>\u001b[0m                 warmup_steps\u001b[39m=\u001b[39m \u001b[39mself\u001b[39m\u001b[39m.\u001b[39mconfig\u001b[39m.\u001b[39mwarmup_steps, \n\u001b[0;32m     <a href='vscode-notebook-cell:/c%3A/Users/shrin/Documents/Python_Scripts/FetchSearch/research/04_model_trainer.ipynb#X12sZmlsZQ%3D%3D?line=31'>32</a>\u001b[0m                 weight_decay\u001b[39m=\u001b[39m \u001b[39mself\u001b[39m\u001b[39m.\u001b[39mconfig\u001b[39m.\u001b[39mweight_decay, \n\u001b[0;32m     <a href='vscode-notebook-cell:/c%3A/Users/shrin/Documents/Python_Scripts/FetchSearch/research/04_model_trainer.ipynb#X12sZmlsZQ%3D%3D?line=32'>33</a>\u001b[0m                 output_path\u001b[39m=\u001b[39m os\u001b[39m.\u001b[39mpath\u001b[39m.\u001b[39mjoin(\u001b[39mself\u001b[39m\u001b[39m.\u001b[39mconfig\u001b[39m.\u001b[39mroot_dir,\u001b[39m\"\u001b[39m\u001b[39msaved-search-model\u001b[39m\u001b[39m\"\u001b[39m)\n\u001b[0;32m     <a href='vscode-notebook-cell:/c%3A/Users/shrin/Documents/Python_Scripts/FetchSearch/research/04_model_trainer.ipynb#X12sZmlsZQ%3D%3D?line=33'>34</a>\u001b[0m             )\n",
      "\u001b[1;31mAttributeError\u001b[0m: 'DataLoader' object has no attribute '__getitem__'"
     ]
    }
   ],
   "source": [
    "try:\n",
    "    config = ConfigurationManager()\n",
    "    model_trainer_config = config.get_model_trainer_config()\n",
    "    model_trainer_config = ModelTrainer(config=model_trainer_config)\n",
    "    model_trainer_config.train()\n",
    "except Exception as e:\n",
    "    raise e"
   ]
  },
  {
   "cell_type": "code",
   "execution_count": null,
   "metadata": {},
   "outputs": [],
   "source": []
  }
 ],
 "metadata": {
  "kernelspec": {
   "display_name": "fetch",
   "language": "python",
   "name": "python3"
  },
  "language_info": {
   "codemirror_mode": {
    "name": "ipython",
    "version": 3
   },
   "file_extension": ".py",
   "mimetype": "text/x-python",
   "name": "python",
   "nbconvert_exporter": "python",
   "pygments_lexer": "ipython3",
   "version": "3.10.0"
  }
 },
 "nbformat": 4,
 "nbformat_minor": 2
}

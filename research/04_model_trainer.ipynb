{
 "cells": [
  {
   "cell_type": "code",
   "execution_count": 1,
   "metadata": {},
   "outputs": [],
   "source": [
    "import os"
   ]
  },
  {
   "cell_type": "code",
   "execution_count": 2,
   "metadata": {},
   "outputs": [],
   "source": [
    "os.chdir(\"../\")"
   ]
  },
  {
   "cell_type": "code",
   "execution_count": 3,
   "metadata": {},
   "outputs": [
    {
     "data": {
      "text/plain": [
       "'c:\\\\Users\\\\shrin\\\\Documents\\\\Python_Scripts\\\\FetchSearch'"
      ]
     },
     "execution_count": 3,
     "metadata": {},
     "output_type": "execute_result"
    }
   ],
   "source": [
    "pwd"
   ]
  },
  {
   "cell_type": "code",
   "execution_count": 30,
   "metadata": {},
   "outputs": [],
   "source": [
    "from dataclasses import dataclass\n",
    "from pathlib import Path\n",
    "\n",
    "@dataclass(frozen=True)\n",
    "class ModelTrainerConfig:\n",
    "    root_dir: Path\n",
    "    data_path: Path\n",
    "    model_ckpt: Path\n",
    "    num_train_epochs: int\n",
    "    warmup_steps: int\n",
    "    weight_decay: float\n",
    "    special_tokens: list"
   ]
  },
  {
   "cell_type": "code",
   "execution_count": 31,
   "metadata": {},
   "outputs": [],
   "source": [
    "from fetchSearch.constants import *\n",
    "from fetchSearch.utils.common import read_yaml, create_directories"
   ]
  },
  {
   "cell_type": "code",
   "execution_count": 32,
   "metadata": {},
   "outputs": [],
   "source": [
    "class ConfigurationManager:\n",
    "    def __init__(\n",
    "        self,\n",
    "        config_filepath = CONFIG_FILE_PATH,\n",
    "        params_filepath = PARAMS_FILE_PATH):\n",
    "\n",
    "        self.config = read_yaml(config_filepath)\n",
    "        self.params = read_yaml(params_filepath)\n",
    "\n",
    "        create_directories([self.config.artifacts_root])\n",
    "   \n",
    "    def get_model_trainer_config(self) -> ModelTrainerConfig:\n",
    "        config = self.config.model_trainer\n",
    "        params = self.params.TrainingArguments\n",
    "\n",
    "        create_directories([config.root_dir])\n",
    "\n",
    "        model_trainer_config = ModelTrainerConfig(\n",
    "            root_dir=config.root_dir,\n",
    "            data_path=config.data_path,\n",
    "            model_ckpt = config.model_ckpt,\n",
    "            special_tokens = params.special_tokens,\n",
    "            num_train_epochs = params.num_train_epochs,\n",
    "            warmup_steps = params.warmup_steps,\n",
    "            weight_decay = params.weight_decay           \n",
    "        )\n",
    "\n",
    "        return model_trainer_config"
   ]
  },
  {
   "cell_type": "code",
   "execution_count": 33,
   "metadata": {},
   "outputs": [],
   "source": [
    "import os\n",
    "from fetchSearch.logging import logger\n",
    "from sentence_transformers import SentenceTransformer, models, InputExample, losses, evaluation, util\n",
    "from datasets import load_dataset, load_from_disk\n",
    "import torch\n",
    "from torch.utils.data import DataLoader\n",
    "import tqdm"
   ]
  },
  {
   "cell_type": "code",
   "execution_count": 40,
   "metadata": {},
   "outputs": [],
   "source": [
    "class ModelTrainer:\n",
    "    def __init__(self, config: ModelTrainerConfig):\n",
    "        self.config = config\n",
    "\n",
    "\n",
    "    \n",
    "    def train(self):\n",
    "        device = \"cuda\" if torch.cuda.is_available() else \"cpu\"\n",
    "        sbert_model = SentenceTransformer(self.config.model_ckpt).to(device)\n",
    "        \n",
    "        word_embedding_model = sbert_model._first_module()\n",
    "        word_embedding_model.tokenizer.add_tokens(self.config.special_tokens, special_tokens=True)\n",
    "        word_embedding_model.auto_model.resize_token_embeddings(len(word_embedding_model.tokenizer))\n",
    "\n",
    "        loss = losses.CosineSimilarityLoss(model=sbert_model)\n",
    "\n",
    "        #loading data \n",
    "        #dataset_processed = load_from_disk(self.config.data_path)\n",
    "\n",
    "\n",
    "        train_dataloader = torch.load(os.path.join(self.config.data_path,\"train.pth\"))#DataLoader(train_examples, shuffle=True, batch_size=16)\n",
    "        val_dataloader = torch.load(os.path.join(self.config.data_path,\"val.pth\"))\n",
    "        test_dataloader = torch.load(os.path.join(self.config.data_path,\"test.pth\"))\n",
    "\n",
    "        val_evaluator = torch.load(os.path.join(self.config.data_path,\"val_eval.pth\"))\n",
    "        test_evaluator = torch.load(os.path.join(self.config.data_path,\"test_eval.pth\"))\n",
    "\n",
    "        sbert_model.fit(train_objectives=[(test_dataloader, loss)], \n",
    "                        evaluator=val_evaluator, \n",
    "                        epochs = self.config.num_train_epochs,\n",
    "                        warmup_steps= self.config.warmup_steps, \n",
    "                        weight_decay= self.config.weight_decay, \n",
    "                        output_path= os.path.join(self.config.root_dir,\"saved-search-model\")\n",
    "                    )"
   ]
  },
  {
   "cell_type": "code",
   "execution_count": null,
   "metadata": {},
   "outputs": [],
   "source": [
    "try:\n",
    "    config = ConfigurationManager()\n",
    "    model_trainer_config = config.get_model_trainer_config()\n",
    "    model_trainer_config = ModelTrainer(config=model_trainer_config)\n",
    "    model_trainer_config.train()\n",
    "except Exception as e:\n",
    "    raise e"
   ]
  },
  {
   "cell_type": "code",
   "execution_count": null,
   "metadata": {},
   "outputs": [],
   "source": []
  }
 ],
 "metadata": {
  "kernelspec": {
   "display_name": "fetch",
   "language": "python",
   "name": "python3"
  },
  "language_info": {
   "codemirror_mode": {
    "name": "ipython",
    "version": 3
   },
   "file_extension": ".py",
   "mimetype": "text/x-python",
   "name": "python",
   "nbconvert_exporter": "python",
   "pygments_lexer": "ipython3",
   "version": "3.10.0"
  }
 },
 "nbformat": 4,
 "nbformat_minor": 2
}

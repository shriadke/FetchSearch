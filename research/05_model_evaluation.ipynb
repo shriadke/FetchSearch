{
 "cells": [
  {
   "cell_type": "code",
   "execution_count": 1,
   "metadata": {},
   "outputs": [],
   "source": [
    "import os"
   ]
  },
  {
   "cell_type": "code",
   "execution_count": 2,
   "metadata": {},
   "outputs": [
    {
     "data": {
      "text/plain": [
       "'c:\\\\Users\\\\shrin\\\\Documents\\\\Python_Scripts\\\\FetchSearch\\\\research'"
      ]
     },
     "execution_count": 2,
     "metadata": {},
     "output_type": "execute_result"
    }
   ],
   "source": [
    "pwd"
   ]
  },
  {
   "cell_type": "code",
   "execution_count": 3,
   "metadata": {},
   "outputs": [],
   "source": [
    "os.chdir(\"../\")"
   ]
  },
  {
   "cell_type": "code",
   "execution_count": 4,
   "metadata": {},
   "outputs": [
    {
     "data": {
      "text/plain": [
       "'c:\\\\Users\\\\shrin\\\\Documents\\\\Python_Scripts\\\\FetchSearch'"
      ]
     },
     "execution_count": 4,
     "metadata": {},
     "output_type": "execute_result"
    }
   ],
   "source": [
    "pwd"
   ]
  },
  {
   "cell_type": "code",
   "execution_count": 5,
   "metadata": {},
   "outputs": [],
   "source": [
    "from dataclasses import dataclass\n",
    "from pathlib import Path\n",
    "\n",
    "@dataclass(frozen=True)\n",
    "class ModelEvaluationConfig:\n",
    "    root_dir: Path\n",
    "    data_path: Path\n",
    "    model_path: Path\n",
    "    tokenizer_path: Path\n",
    "    metric_file_name: Path"
   ]
  },
  {
   "cell_type": "code",
   "execution_count": 6,
   "metadata": {},
   "outputs": [],
   "source": [
    "from fetchSearch.constants import *\n",
    "from fetchSearch.utils.common import read_yaml, create_directories"
   ]
  },
  {
   "cell_type": "code",
   "execution_count": 7,
   "metadata": {},
   "outputs": [],
   "source": [
    "class ConfigurationManager:\n",
    "    def __init__(\n",
    "        self,\n",
    "        config_filepath = CONFIG_FILE_PATH,\n",
    "        params_filepath = PARAMS_FILE_PATH):\n",
    "\n",
    "        self.config = read_yaml(config_filepath)\n",
    "        self.params = read_yaml(params_filepath)\n",
    "\n",
    "        create_directories([self.config.artifacts_root])\n",
    "   \n",
    "    def get_model_evaluation_config(self) -> ModelEvaluationConfig:\n",
    "        config = self.config.model_evaluation\n",
    "\n",
    "        create_directories([config.root_dir])\n",
    "\n",
    "        model_evaluation_config = ModelEvaluationConfig(\n",
    "            root_dir=config.root_dir,\n",
    "            data_path=config.data_path,\n",
    "            model_path = config.model_path,\n",
    "            tokenizer_path = config.tokenizer_path,\n",
    "            metric_file_name = config.metric_file_name          \n",
    "        )\n",
    "\n",
    "        return model_evaluation_config"
   ]
  },
  {
   "cell_type": "code",
   "execution_count": 14,
   "metadata": {},
   "outputs": [],
   "source": [
    "import os\n",
    "from fetchSearch.logging import logger\n",
    "from sentence_transformers import SentenceTransformer, models, InputExample, losses, evaluation, util, CrossEncoder\n",
    "from datasets import load_dataset, load_from_disk\n",
    "import torch\n",
    "from torch.utils.data import DataLoader\n",
    "import tqdm\n",
    "import numpy as np\n",
    "import pandas as pd"
   ]
  },
  {
   "cell_type": "code",
   "execution_count": 17,
   "metadata": {},
   "outputs": [],
   "source": [
    "class ModelEvaluation:\n",
    "    def __init__(self, config: ModelEvaluationConfig):\n",
    "        self.config = config\n",
    "      \n",
    "    def calculate_cosine_scores(self, evaluator):\n",
    "        model = CrossEncoder(self.config.model_path)\n",
    "        cross_scores = model.predict([[ doc, query] for query, doc in zip(evaluator.sentences1, evaluator.sentences2)])\n",
    "        # normalize to 0 to 1\n",
    "        rescaled_array = (cross_scores-np.min(cross_scores))/(np.max(cross_scores)-np.min(cross_scores))\n",
    "        rescaled_array = np.round(rescaled_array,2)\n",
    "\n",
    "        return rescaled_array\n",
    "\n",
    "    def calculate_accuracy(self, predicted_scores, actual_scores):\n",
    "        errors = []\n",
    "        accuracy = 0\n",
    "        for i, score in enumerate(actual_scores):\n",
    "            error = abs(score - predicted_scores[i] * 100)\n",
    "            errors.append(error)\n",
    "        if(len(errors)) == 0:\n",
    "            logger.info(\"No sentences to predict : \")\n",
    "        else:\n",
    "            accuracy = 100 - sum(errors)/len(errors)\n",
    "            logger.info(f\"Val accuracy with cross-encoders : {accuracy}\" )\n",
    "        return accuracy\n",
    "\n",
    "\n",
    "    def evaluate(self):\n",
    "        device = \"cuda\" if torch.cuda.is_available() else \"cpu\"\n",
    "        sbert_model = SentenceTransformer(self.config.model_path).to(device)\n",
    "        \n",
    "        #loading data \n",
    "        \n",
    "        val_dataloader = torch.load(os.path.join(self.config.data_path,\"val.pth\"))\n",
    "        test_dataloader = torch.load(os.path.join(self.config.data_path,\"test.pth\"))\n",
    "\n",
    "        val_evaluator = torch.load(os.path.join(self.config.data_path,\"val_eval.pth\"))\n",
    "        test_evaluator = torch.load(os.path.join(self.config.data_path,\"test_eval.pth\"))\n",
    "\n",
    "        predicted_score = self.calculate_cosine_scores(val_evaluator)\n",
    "        accuray = self.calculate_accuracy(predicted_score, val_evaluator.scores)\n",
    "\n",
    "        val_df = pd.DataFrame({\n",
    "            \"Offer_embd\"    :   val_evaluator.sentences1,\n",
    "            \"Search_query\"  :   val_evaluator.sentences1,\n",
    "            \"Actual_scores\" :   val_evaluator.scores,\n",
    "            \"Actual_scores\" :   predicted_score.tolist()\n",
    "        })\n",
    "        val_df.to_csv(self.config.metric_file_name, index=False)\n"
   ]
  },
  {
   "cell_type": "code",
   "execution_count": 18,
   "metadata": {},
   "outputs": [
    {
     "name": "stdout",
     "output_type": "stream",
     "text": [
      "[2023-10-10 03:34:30,586: INFO: common: yaml file: config\\config.yaml loaded successfully]\n",
      "[2023-10-10 03:34:30,589: INFO: common: yaml file: params.yaml loaded successfully]\n",
      "[2023-10-10 03:34:30,592: INFO: common: created directory at: artifacts]\n",
      "[2023-10-10 03:34:30,593: INFO: common: created directory at: artifacts/model_evaluation]\n",
      "[2023-10-10 03:34:30,594: INFO: SentenceTransformer: Load pretrained SentenceTransformer: cross-encoder/ms-marco-MiniLM-L-6-v2]\n",
      "[2023-10-10 03:34:31,005: WARNING: SentenceTransformer: No sentence-transformers model found with name C:\\Users\\shrin/.cache\\torch\\sentence_transformers\\cross-encoder_ms-marco-MiniLM-L-6-v2. Creating a new one with MEAN pooling.]\n",
      "[2023-10-10 03:34:31,321: INFO: SentenceTransformer: Use pytorch device: cpu]\n",
      "[2023-10-10 03:34:31,809: INFO: CrossEncoder: Use pytorch device: cpu]\n"
     ]
    },
    {
     "data": {
      "application/vnd.jupyter.widget-view+json": {
       "model_id": "a224c4e3c2d74e08b473dc634a7b2eac",
       "version_major": 2,
       "version_minor": 0
      },
      "text/plain": [
       "Batches:   0%|          | 0/1 [00:00<?, ?it/s]"
      ]
     },
     "metadata": {},
     "output_type": "display_data"
    },
    {
     "name": "stdout",
     "output_type": "stream",
     "text": [
      "[2023-10-10 03:34:31,886: INFO: 2933710435: Val accuracy with cross-encoders : 98.7500003632158]\n"
     ]
    }
   ],
   "source": [
    "try:\n",
    "    config = ConfigurationManager()\n",
    "    model_evaluation_config = config.get_model_evaluation_config()\n",
    "    model_evaluation_config = ModelEvaluation(config=model_evaluation_config)\n",
    "    model_evaluation_config.evaluate()\n",
    "except Exception as e:\n",
    "    raise e"
   ]
  },
  {
   "cell_type": "code",
   "execution_count": null,
   "metadata": {},
   "outputs": [],
   "source": []
  }
 ],
 "metadata": {
  "kernelspec": {
   "display_name": "fetch",
   "language": "python",
   "name": "python3"
  },
  "language_info": {
   "codemirror_mode": {
    "name": "ipython",
    "version": 3
   },
   "file_extension": ".py",
   "mimetype": "text/x-python",
   "name": "python",
   "nbconvert_exporter": "python",
   "pygments_lexer": "ipython3",
   "version": "3.10.0"
  }
 },
 "nbformat": 4,
 "nbformat_minor": 2
}

{
 "cells": [
  {
   "cell_type": "code",
   "execution_count": 27,
   "metadata": {},
   "outputs": [],
   "source": [
    "import pandas as pd\n",
    "import pickle\n",
    "import csv\n",
    "from sentence_transformers import SentenceTransformer, models, InputExample, losses, evaluation, util\n"
   ]
  },
  {
   "cell_type": "code",
   "execution_count": 2,
   "metadata": {},
   "outputs": [],
   "source": [
    "offer_df = pd.read_csv(\"../../../data/raw/offer_retailer.csv\")\n",
    "brand_df = pd.read_csv(\"../../../data/raw/brand_category.csv\")\n",
    "brand_df.dropna(inplace=True)\n",
    "cat_df = pd.read_csv(\"../../../data/raw/categories.csv\")"
   ]
  },
  {
   "cell_type": "code",
   "execution_count": 4,
   "metadata": {},
   "outputs": [
    {
     "data": {
      "text/html": [
       "<div>\n",
       "<style scoped>\n",
       "    .dataframe tbody tr th:only-of-type {\n",
       "        vertical-align: middle;\n",
       "    }\n",
       "\n",
       "    .dataframe tbody tr th {\n",
       "        vertical-align: top;\n",
       "    }\n",
       "\n",
       "    .dataframe thead th {\n",
       "        text-align: right;\n",
       "    }\n",
       "</style>\n",
       "<table border=\"1\" class=\"dataframe\">\n",
       "  <thead>\n",
       "    <tr style=\"text-align: right;\">\n",
       "      <th></th>\n",
       "      <th>product_category</th>\n",
       "      <th>RELATED_CAT</th>\n",
       "    </tr>\n",
       "  </thead>\n",
       "  <tbody>\n",
       "    <tr>\n",
       "      <th>0</th>\n",
       "      <td>Alcohol</td>\n",
       "      <td>Beer, Malt Beverages, Hard Seltzers, Sodas, Wa...</td>\n",
       "    </tr>\n",
       "    <tr>\n",
       "      <th>1</th>\n",
       "      <td>Animals &amp; Pet Supplies</td>\n",
       "      <td>Dog Supplies</td>\n",
       "    </tr>\n",
       "    <tr>\n",
       "      <th>2</th>\n",
       "      <td>Baby &amp; Toddler</td>\n",
       "      <td>Baby Bathing, Potty Training, Baby Safety, Dia...</td>\n",
       "    </tr>\n",
       "    <tr>\n",
       "      <th>3</th>\n",
       "      <td>Beauty</td>\n",
       "      <td>Cosmetic Tools, Makeup, Nail Care, Body Fragra...</td>\n",
       "    </tr>\n",
       "    <tr>\n",
       "      <th>4</th>\n",
       "      <td>Beverages</td>\n",
       "      <td>Coffee, Meal Replacement Beverages, Vegetable ...</td>\n",
       "    </tr>\n",
       "  </tbody>\n",
       "</table>\n",
       "</div>"
      ],
      "text/plain": [
       "         product_category                                        RELATED_CAT\n",
       "0                 Alcohol  Beer, Malt Beverages, Hard Seltzers, Sodas, Wa...\n",
       "1  Animals & Pet Supplies                                       Dog Supplies\n",
       "2          Baby & Toddler  Baby Bathing, Potty Training, Baby Safety, Dia...\n",
       "3                  Beauty  Cosmetic Tools, Makeup, Nail Care, Body Fragra...\n",
       "4               Beverages  Coffee, Meal Replacement Beverages, Vegetable ..."
      ]
     },
     "execution_count": 4,
     "metadata": {},
     "output_type": "execute_result"
    }
   ],
   "source": [
    "new_categories = []\n",
    "for parent_category, group in cat_df.groupby(\"IS_CHILD_CATEGORY_TO\"):\n",
    "    sister_products = \", \".join(group[\"PRODUCT_CATEGORY\"])\n",
    "    new_categories.append([parent_category, sister_products])\n",
    "\n",
    "new_categories = pd.DataFrame(new_categories, columns=[\"product_category\", \"RELATED_CAT\"])\n",
    "new_categories.head()"
   ]
  },
  {
   "cell_type": "code",
   "execution_count": 6,
   "metadata": {},
   "outputs": [
    {
     "data": {
      "text/html": [
       "<div>\n",
       "<style scoped>\n",
       "    .dataframe tbody tr th:only-of-type {\n",
       "        vertical-align: middle;\n",
       "    }\n",
       "\n",
       "    .dataframe tbody tr th {\n",
       "        vertical-align: top;\n",
       "    }\n",
       "\n",
       "    .dataframe thead th {\n",
       "        text-align: right;\n",
       "    }\n",
       "</style>\n",
       "<table border=\"1\" class=\"dataframe\">\n",
       "  <thead>\n",
       "    <tr style=\"text-align: right;\">\n",
       "      <th></th>\n",
       "      <th>PRODUCT_CATEGORY</th>\n",
       "      <th>IS_CHILD_CATEGORY_TO</th>\n",
       "      <th>RELATED_CAT</th>\n",
       "    </tr>\n",
       "  </thead>\n",
       "  <tbody>\n",
       "    <tr>\n",
       "      <th>0</th>\n",
       "      <td>Red Pasta Sauce</td>\n",
       "      <td>Pasta Sauce</td>\n",
       "      <td>Red Pasta Sauce, Alfredo &amp; White Pasta Sauce, ...</td>\n",
       "    </tr>\n",
       "    <tr>\n",
       "      <th>1</th>\n",
       "      <td>Alfredo &amp; White Pasta Sauce</td>\n",
       "      <td>Pasta Sauce</td>\n",
       "      <td>Red Pasta Sauce, Alfredo &amp; White Pasta Sauce, ...</td>\n",
       "    </tr>\n",
       "    <tr>\n",
       "      <th>2</th>\n",
       "      <td>Cooking &amp; Baking</td>\n",
       "      <td>Pantry</td>\n",
       "      <td>Cooking &amp; Baking, Packaged Seafood, Nut Butter...</td>\n",
       "    </tr>\n",
       "    <tr>\n",
       "      <th>3</th>\n",
       "      <td>Packaged Seafood</td>\n",
       "      <td>Pantry</td>\n",
       "      <td>Cooking &amp; Baking, Packaged Seafood, Nut Butter...</td>\n",
       "    </tr>\n",
       "    <tr>\n",
       "      <th>4</th>\n",
       "      <td>Feminine Hygeine</td>\n",
       "      <td>Health &amp; Wellness</td>\n",
       "      <td>Feminine Hygeine, Sexual Health, Foot Care, De...</td>\n",
       "    </tr>\n",
       "  </tbody>\n",
       "</table>\n",
       "</div>"
      ],
      "text/plain": [
       "              PRODUCT_CATEGORY IS_CHILD_CATEGORY_TO  \\\n",
       "0              Red Pasta Sauce          Pasta Sauce   \n",
       "1  Alfredo & White Pasta Sauce          Pasta Sauce   \n",
       "2             Cooking & Baking               Pantry   \n",
       "3             Packaged Seafood               Pantry   \n",
       "4             Feminine Hygeine    Health & Wellness   \n",
       "\n",
       "                                         RELATED_CAT  \n",
       "0  Red Pasta Sauce, Alfredo & White Pasta Sauce, ...  \n",
       "1  Red Pasta Sauce, Alfredo & White Pasta Sauce, ...  \n",
       "2  Cooking & Baking, Packaged Seafood, Nut Butter...  \n",
       "3  Cooking & Baking, Packaged Seafood, Nut Butter...  \n",
       "4  Feminine Hygeine, Sexual Health, Foot Care, De...  "
      ]
     },
     "execution_count": 6,
     "metadata": {},
     "output_type": "execute_result"
    }
   ],
   "source": [
    "cat_related_df = pd.merge(cat_df, new_categories, left_on=\"IS_CHILD_CATEGORY_TO\", right_on=\"product_category\", how=\"left\").drop(columns=[\"CATEGORY_ID\",\"product_category\"]) \n",
    "cat_related_df.head()"
   ]
  },
  {
   "cell_type": "code",
   "execution_count": 7,
   "metadata": {},
   "outputs": [
    {
     "data": {
      "text/html": [
       "<div>\n",
       "<style scoped>\n",
       "    .dataframe tbody tr th:only-of-type {\n",
       "        vertical-align: middle;\n",
       "    }\n",
       "\n",
       "    .dataframe tbody tr th {\n",
       "        vertical-align: top;\n",
       "    }\n",
       "\n",
       "    .dataframe thead th {\n",
       "        text-align: right;\n",
       "    }\n",
       "</style>\n",
       "<table border=\"1\" class=\"dataframe\">\n",
       "  <thead>\n",
       "    <tr style=\"text-align: right;\">\n",
       "      <th></th>\n",
       "      <th>OFFER</th>\n",
       "      <th>RETAILER</th>\n",
       "      <th>BRAND</th>\n",
       "      <th>BRAND_BELONGS_TO_CATEGORY</th>\n",
       "      <th>RECEIPTS</th>\n",
       "    </tr>\n",
       "  </thead>\n",
       "  <tbody>\n",
       "    <tr>\n",
       "      <th>0</th>\n",
       "      <td>Spend $50 on a Full-Priced new Club Membership</td>\n",
       "      <td>SAMS CLUB</td>\n",
       "      <td>SAMS CLUB</td>\n",
       "      <td>NaN</td>\n",
       "      <td>NaN</td>\n",
       "    </tr>\n",
       "    <tr>\n",
       "      <th>1</th>\n",
       "      <td>Beyond Meat® Plant-Based products, spend $25</td>\n",
       "      <td>NaN</td>\n",
       "      <td>BEYOND MEAT</td>\n",
       "      <td>Plant-Based Meat</td>\n",
       "      <td>1584.0</td>\n",
       "    </tr>\n",
       "    <tr>\n",
       "      <th>2</th>\n",
       "      <td>Beyond Meat® Plant-Based products, spend $25</td>\n",
       "      <td>NaN</td>\n",
       "      <td>BEYOND MEAT</td>\n",
       "      <td>Frozen Plant-Based Meat</td>\n",
       "      <td>313.0</td>\n",
       "    </tr>\n",
       "    <tr>\n",
       "      <th>3</th>\n",
       "      <td>Beyond Meat® Plant-Based products, spend $25</td>\n",
       "      <td>NaN</td>\n",
       "      <td>BEYOND MEAT</td>\n",
       "      <td>Packaged Meat</td>\n",
       "      <td>30.0</td>\n",
       "    </tr>\n",
       "    <tr>\n",
       "      <th>4</th>\n",
       "      <td>Good Humor Viennetta Frozen Vanilla Cake</td>\n",
       "      <td>NaN</td>\n",
       "      <td>GOOD HUMOR</td>\n",
       "      <td>Frozen Desserts</td>\n",
       "      <td>1052.0</td>\n",
       "    </tr>\n",
       "  </tbody>\n",
       "</table>\n",
       "</div>"
      ],
      "text/plain": [
       "                                            OFFER   RETAILER        BRAND  \\\n",
       "0  Spend $50 on a Full-Priced new Club Membership  SAMS CLUB    SAMS CLUB   \n",
       "1    Beyond Meat® Plant-Based products, spend $25        NaN  BEYOND MEAT   \n",
       "2    Beyond Meat® Plant-Based products, spend $25        NaN  BEYOND MEAT   \n",
       "3    Beyond Meat® Plant-Based products, spend $25        NaN  BEYOND MEAT   \n",
       "4        Good Humor Viennetta Frozen Vanilla Cake        NaN   GOOD HUMOR   \n",
       "\n",
       "  BRAND_BELONGS_TO_CATEGORY  RECEIPTS  \n",
       "0                       NaN       NaN  \n",
       "1          Plant-Based Meat    1584.0  \n",
       "2   Frozen Plant-Based Meat     313.0  \n",
       "3             Packaged Meat      30.0  \n",
       "4           Frozen Desserts    1052.0  "
      ]
     },
     "execution_count": 7,
     "metadata": {},
     "output_type": "execute_result"
    }
   ],
   "source": [
    "brand_offer_df = pd.merge(offer_df,brand_df, on=\"BRAND\", how=\"left\")\n",
    "brand_offer_df.head()"
   ]
  },
  {
   "cell_type": "code",
   "execution_count": 18,
   "metadata": {},
   "outputs": [
    {
     "data": {
      "text/html": [
       "<div>\n",
       "<style scoped>\n",
       "    .dataframe tbody tr th:only-of-type {\n",
       "        vertical-align: middle;\n",
       "    }\n",
       "\n",
       "    .dataframe tbody tr th {\n",
       "        vertical-align: top;\n",
       "    }\n",
       "\n",
       "    .dataframe thead th {\n",
       "        text-align: right;\n",
       "    }\n",
       "</style>\n",
       "<table border=\"1\" class=\"dataframe\">\n",
       "  <thead>\n",
       "    <tr style=\"text-align: right;\">\n",
       "      <th></th>\n",
       "      <th>OFFER</th>\n",
       "      <th>RETAILER</th>\n",
       "      <th>BRAND</th>\n",
       "      <th>RECEIPTS</th>\n",
       "      <th>PRODUCT_CATEGORY</th>\n",
       "      <th>IS_CHILD_CATEGORY_TO</th>\n",
       "      <th>RELATED_CAT</th>\n",
       "    </tr>\n",
       "  </thead>\n",
       "  <tbody>\n",
       "    <tr>\n",
       "      <th>0</th>\n",
       "      <td>Spend $50 on a Full-Priced new Club Membership</td>\n",
       "      <td>SAMS CLUB</td>\n",
       "      <td>SAMS CLUB</td>\n",
       "      <td></td>\n",
       "      <td></td>\n",
       "      <td></td>\n",
       "      <td></td>\n",
       "    </tr>\n",
       "    <tr>\n",
       "      <th>1</th>\n",
       "      <td>Beyond Meat® Plant-Based products, spend $25</td>\n",
       "      <td></td>\n",
       "      <td>BEYOND MEAT</td>\n",
       "      <td>1584.0</td>\n",
       "      <td>Plant-Based Meat</td>\n",
       "      <td>Meat &amp; Seafood</td>\n",
       "      <td>Plant-Based Meat</td>\n",
       "    </tr>\n",
       "    <tr>\n",
       "      <th>2</th>\n",
       "      <td>Beyond Meat® Plant-Based products, spend $25</td>\n",
       "      <td></td>\n",
       "      <td>BEYOND MEAT</td>\n",
       "      <td>313.0</td>\n",
       "      <td>Frozen Plant-Based Meat</td>\n",
       "      <td>Frozen</td>\n",
       "      <td>Frozen Fruits, Frozen Desserts, Frozen Sides, ...</td>\n",
       "    </tr>\n",
       "    <tr>\n",
       "      <th>3</th>\n",
       "      <td>Beyond Meat® Plant-Based products, spend $25</td>\n",
       "      <td></td>\n",
       "      <td>BEYOND MEAT</td>\n",
       "      <td>30.0</td>\n",
       "      <td>Packaged Meat</td>\n",
       "      <td>Pantry</td>\n",
       "      <td>Cooking &amp; Baking, Packaged Seafood, Nut Butter...</td>\n",
       "    </tr>\n",
       "    <tr>\n",
       "      <th>4</th>\n",
       "      <td>Good Humor Viennetta Frozen Vanilla Cake</td>\n",
       "      <td></td>\n",
       "      <td>GOOD HUMOR</td>\n",
       "      <td>1052.0</td>\n",
       "      <td>Frozen Desserts</td>\n",
       "      <td>Frozen</td>\n",
       "      <td>Frozen Fruits, Frozen Desserts, Frozen Sides, ...</td>\n",
       "    </tr>\n",
       "  </tbody>\n",
       "</table>\n",
       "</div>"
      ],
      "text/plain": [
       "                                            OFFER   RETAILER        BRAND  \\\n",
       "0  Spend $50 on a Full-Priced new Club Membership  SAMS CLUB    SAMS CLUB   \n",
       "1    Beyond Meat® Plant-Based products, spend $25             BEYOND MEAT   \n",
       "2    Beyond Meat® Plant-Based products, spend $25             BEYOND MEAT   \n",
       "3    Beyond Meat® Plant-Based products, spend $25             BEYOND MEAT   \n",
       "4        Good Humor Viennetta Frozen Vanilla Cake              GOOD HUMOR   \n",
       "\n",
       "  RECEIPTS         PRODUCT_CATEGORY IS_CHILD_CATEGORY_TO  \\\n",
       "0                                                          \n",
       "1   1584.0         Plant-Based Meat       Meat & Seafood   \n",
       "2    313.0  Frozen Plant-Based Meat               Frozen   \n",
       "3     30.0            Packaged Meat               Pantry   \n",
       "4   1052.0          Frozen Desserts               Frozen   \n",
       "\n",
       "                                         RELATED_CAT  \n",
       "0                                                     \n",
       "1                                   Plant-Based Meat  \n",
       "2  Frozen Fruits, Frozen Desserts, Frozen Sides, ...  \n",
       "3  Cooking & Baking, Packaged Seafood, Nut Butter...  \n",
       "4  Frozen Fruits, Frozen Desserts, Frozen Sides, ...  "
      ]
     },
     "execution_count": 18,
     "metadata": {},
     "output_type": "execute_result"
    }
   ],
   "source": [
    "brand_offer_category_df = pd.merge(brand_offer_df, cat_related_df, left_on=\"BRAND_BELONGS_TO_CATEGORY\", right_on=\"PRODUCT_CATEGORY\", how=\"left\").fillna(\" \").drop([\"BRAND_BELONGS_TO_CATEGORY\"], axis=1)\n",
    "brand_offer_category_df.head()"
   ]
  },
  {
   "cell_type": "code",
   "execution_count": 10,
   "metadata": {},
   "outputs": [],
   "source": [
    "def clean_text(text):\n",
    "    import re\n",
    "    text = str(text).lower()\n",
    "    text = re.sub('[-]+',' ', text)\n",
    "    text = re.sub('[^A-Za-z0-9\\[\\]\\s]+', '', text)   \n",
    "    #text = text.strip()\n",
    "    return text"
   ]
  },
  {
   "cell_type": "code",
   "execution_count": 16,
   "metadata": {},
   "outputs": [],
   "source": [
    "def embd_txt(row):\n",
    "    ret_string = \"\"\n",
    "    #print(row)\n",
    "    token_map = {\n",
    "            \"OFFER\" : \"[OFF] \",\n",
    "            \"BRAND\" : \" [BN] \",\n",
    "            \"RETAILER\" : \" [RN] \",\n",
    "            \"PRODUCT_CATEGORY\" : \" [CN] \",\n",
    "            \"IS_CHILD_CATEGORY_TO\" : \" [PCN] \",\n",
    "            \"RELATED_CAT\" : \" [RCN] \"\n",
    "    }\n",
    "    for cols, val in row.items():\n",
    "        if val == \" \":\n",
    "            continue\n",
    "        if cols == \"RECEIPTS\":\n",
    "            continue\n",
    "        val = clean_text(val)\n",
    "        ret_string += token_map[cols] + str(val)\n",
    "    if ret_string == \"\":\n",
    "        print(\"no offer\")\n",
    "        #ret_string=ret_string[:-2]\n",
    "\n",
    "    return ret_string"
   ]
  },
  {
   "cell_type": "code",
   "execution_count": 19,
   "metadata": {},
   "outputs": [],
   "source": [
    "brand_offer_category_df[\"SIMPLE_EMBD\"] = brand_offer_category_df.apply(lambda row:embd_txt(row), axis=1)"
   ]
  },
  {
   "cell_type": "code",
   "execution_count": 21,
   "metadata": {},
   "outputs": [
    {
     "data": {
      "text/html": [
       "<div>\n",
       "<style scoped>\n",
       "    .dataframe tbody tr th:only-of-type {\n",
       "        vertical-align: middle;\n",
       "    }\n",
       "\n",
       "    .dataframe tbody tr th {\n",
       "        vertical-align: top;\n",
       "    }\n",
       "\n",
       "    .dataframe thead th {\n",
       "        text-align: right;\n",
       "    }\n",
       "</style>\n",
       "<table border=\"1\" class=\"dataframe\">\n",
       "  <thead>\n",
       "    <tr style=\"text-align: right;\">\n",
       "      <th></th>\n",
       "      <th>OFFER</th>\n",
       "      <th>SIMPLE_EMBD</th>\n",
       "    </tr>\n",
       "  </thead>\n",
       "  <tbody>\n",
       "    <tr>\n",
       "      <th>0</th>\n",
       "      <td>Spend $50 on a Full-Priced new Club Membership</td>\n",
       "      <td>[OFF] spend 50 on a full priced new club membe...</td>\n",
       "    </tr>\n",
       "    <tr>\n",
       "      <th>1</th>\n",
       "      <td>Beyond Meat® Plant-Based products, spend $25</td>\n",
       "      <td>[OFF] beyond meat plant based products spend 2...</td>\n",
       "    </tr>\n",
       "    <tr>\n",
       "      <th>2</th>\n",
       "      <td>Beyond Meat® Plant-Based products, spend $25</td>\n",
       "      <td>[OFF] beyond meat plant based products spend 2...</td>\n",
       "    </tr>\n",
       "    <tr>\n",
       "      <th>3</th>\n",
       "      <td>Beyond Meat® Plant-Based products, spend $25</td>\n",
       "      <td>[OFF] beyond meat plant based products spend 2...</td>\n",
       "    </tr>\n",
       "    <tr>\n",
       "      <th>4</th>\n",
       "      <td>Good Humor Viennetta Frozen Vanilla Cake</td>\n",
       "      <td>[OFF] good humor viennetta frozen vanilla cake...</td>\n",
       "    </tr>\n",
       "  </tbody>\n",
       "</table>\n",
       "</div>"
      ],
      "text/plain": [
       "                                            OFFER  \\\n",
       "0  Spend $50 on a Full-Priced new Club Membership   \n",
       "1    Beyond Meat® Plant-Based products, spend $25   \n",
       "2    Beyond Meat® Plant-Based products, spend $25   \n",
       "3    Beyond Meat® Plant-Based products, spend $25   \n",
       "4        Good Humor Viennetta Frozen Vanilla Cake   \n",
       "\n",
       "                                         SIMPLE_EMBD  \n",
       "0  [OFF] spend 50 on a full priced new club membe...  \n",
       "1  [OFF] beyond meat plant based products spend 2...  \n",
       "2  [OFF] beyond meat plant based products spend 2...  \n",
       "3  [OFF] beyond meat plant based products spend 2...  \n",
       "4  [OFF] good humor viennetta frozen vanilla cake...  "
      ]
     },
     "execution_count": 21,
     "metadata": {},
     "output_type": "execute_result"
    }
   ],
   "source": [
    "simple_df = brand_offer_category_df[[\"OFFER\",\"SIMPLE_EMBD\"]].copy()\n",
    "simple_df.head()"
   ]
  },
  {
   "cell_type": "code",
   "execution_count": 28,
   "metadata": {},
   "outputs": [
    {
     "name": "stderr",
     "output_type": "stream",
     "text": [
      "Special tokens have been added in the vocabulary, make sure the associated word embeddings are fine-tuned or trained.\n"
     ]
    }
   ],
   "source": [
    "#sentence-transformers/multi-qa-MiniLM-L6-cos-v1\n",
    "# model = SentenceTransformer(\"msmarco-distilbert-base-v4\")\n",
    "sbert_model = SentenceTransformer(\"./models/\")"
   ]
  },
  {
   "cell_type": "code",
   "execution_count": 24,
   "metadata": {},
   "outputs": [
    {
     "data": {
      "application/vnd.jupyter.widget-view+json": {
       "model_id": "0d2fbb79c0cf42608e25b95cc1db9d71",
       "version_major": 2,
       "version_minor": 0
      },
      "text/plain": [
       "Batches:   0%|          | 0/26 [00:00<?, ?it/s]"
      ]
     },
     "metadata": {},
     "output_type": "display_data"
    }
   ],
   "source": [
    "simple_embd = sbert_model.encode(simple_df[\"SIMPLE_EMBD\"].tolist(), show_progress_bar=True)"
   ]
  },
  {
   "cell_type": "code",
   "execution_count": 26,
   "metadata": {},
   "outputs": [],
   "source": [
    "simple_df[\"VECTOR_EMBD\"] = pd.Series([arr for arr in simple_embd])\n",
    "simple_df.to_pickle(\"../../../data/processed/embeddings/simple_df_with_embeddings_new_model.pkl\")"
   ]
  },
  {
   "cell_type": "code",
   "execution_count": null,
   "metadata": {},
   "outputs": [],
   "source": [
    "## Embeddings generated and stored for current data"
   ]
  }
 ],
 "metadata": {
  "kernelspec": {
   "display_name": "fetch",
   "language": "python",
   "name": "python3"
  },
  "language_info": {
   "codemirror_mode": {
    "name": "ipython",
    "version": 3
   },
   "file_extension": ".py",
   "mimetype": "text/x-python",
   "name": "python",
   "nbconvert_exporter": "python",
   "pygments_lexer": "ipython3",
   "version": "3.10.0"
  }
 },
 "nbformat": 4,
 "nbformat_minor": 2
}
